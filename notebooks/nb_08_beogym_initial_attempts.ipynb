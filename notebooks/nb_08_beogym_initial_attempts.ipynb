{
 "cells": [
  {
   "cell_type": "code",
   "execution_count": 1,
   "metadata": {},
   "outputs": [],
   "source": [
    "# Jupyter setup\n",
    "%load_ext autoreload\n",
    "%autoreload 2\n",
    "%config IPCompleter.greedy=True"
   ]
  },
  {
   "cell_type": "code",
   "execution_count": 2,
   "metadata": {},
   "outputs": [],
   "source": [
    "import ray\n",
    "ray.shutdown()"
   ]
  },
  {
   "cell_type": "code",
   "execution_count": 3,
   "metadata": {},
   "outputs": [],
   "source": [
    "import ray.rllib\n",
    "import ray.tune \n",
    "import solara.envs.creator\n",
    "\n",
    "## Initialising ray (starts background process for distributed computing)\n",
    "ray.shutdown()\n",
    "ray.init(logging_level=\"WARNING\", object_store_memory= 25 * 10**9)\n",
    "\n",
    "# Adding environment creator function to ray\n",
    "ray.tune.registry.register_env(\"battery_control\", solara.envs.creator.create_env)\n",
    "\n",
    "# Output format of figures\n",
    "OUT_FORMAT = \".svg\""
   ]
  },
  {
   "cell_type": "code",
   "execution_count": 4,
   "metadata": {},
   "outputs": [],
   "source": [
    "from solara.constants import PROJECT_PATH\n",
    "import solara.utils.rllib\n",
    "\n",
    "EXPERIMENT_NAME = \"experiment_08_test_beogym\"\n",
    "\n",
    "# RL environment configuration\n",
    "ENV_CONFIG = {\n",
    "    'general': {\n",
    "        'obs_keys': [\"load\", \"pv_gen\", \"battery_cont\", \"time_step\"],\n",
    "        'type': 'battery_control.BatteryControlEnv',\n",
    "        'infeasible_control_penalty': ray.tune.grid_search([False, True]),\n",
    "        'grid_charging': ray.tune.grid_search([True, False]),\n",
    "        'logging_level': \"RAY\", # if using RLlib, set to 'RAY'\n",
    "    },\n",
    "    'components': {\n",
    "        'battery': {\n",
    "            'type': 'LithiumIonBattery',\n",
    "            'size': 10,\n",
    "            'chemistry': 'NMC',\n",
    "            'time_step_len': 1,\n",
    "        },\n",
    "        'solar': {\n",
    "            'type': 'DataPV',\n",
    "            'data_path': PROJECT_PATH + \"/data/ausgrid/processed/house2_solar_gen.txt\",\n",
    "            'fixed_sample_num': 200,\n",
    "        },\n",
    "        'load': {\n",
    "            'type': 'DataLoad',\n",
    "            'data_path': PROJECT_PATH + \"/data/ausgrid/processed/house2_combined_load.txt\",\n",
    "            'fixed_sample_num': 200,\n",
    "        },\n",
    "        'grid': {\n",
    "            'type': 'PeakGrid',\n",
    "            'peak_threshold': 1.0,\n",
    "        },\n",
    "    },\n",
    "}\n",
    "\n",
    "# RL agent configuration\n",
    "AGENT_CONFIG = {\n",
    "    \"env\": \"battery_control\",\n",
    "    \"env_config\": ENV_CONFIG,\n",
    "    \"gamma\": 0.9999999,\n",
    "    \"lr\": 5e-5,\n",
    "    \"model\": {\n",
    "        \"fcnet_hiddens\": [256, 256, 256, 256],\n",
    "        \"fcnet_activation\": \"relu\",\n",
    "        \"post_fcnet_activation\": \"tanh\",\n",
    "    },\n",
    "    # Utilities settings\n",
    "    \"framework\": \"torch\",\n",
    "    \"log_level\": \"WARNING\",\n",
    "    #\"num_workers\": 9,\n",
    "    #\"num_gpus\": 1,\n",
    "    \"callbacks\": solara.utils.rllib.InfoCallback,\n",
    "    \"seed\" : ray.tune.randint(0, 10000000),\n",
    "}\n",
    "\n",
    "# Full experiment configuration including RL algorithm type\n",
    "EXPERIMENT_CONFIG = {\n",
    "    \"run_or_experiment\": \"PPO\",\n",
    "    \"config\": AGENT_CONFIG,\n",
    "    \"stop\": {\"training_iteration\": 100},\n",
    "    \"name\": EXPERIMENT_NAME,\n",
    "    \"local_dir\": \"./tmp/tune/\",\n",
    "    \"log_to_file\": True,\n",
    "    \"checkpoint_freq\": 1,\n",
    "}\n",
    "\n",
    "# Other settings\n",
    "PLOT_DIR = PROJECT_PATH + \"/figures/experiments/\""
   ]
  },
  {
   "cell_type": "code",
   "execution_count": 5,
   "metadata": {},
   "outputs": [],
   "source": [
    "# Parallelisation Setup\n",
    "if False:\n",
    "    num_workers = 4\n",
    "    gpu_count = 1\n",
    "    reserved_capacity = 0.01 # Driver GPU\n",
    "    num_gpus_per_worker = (gpu_count - reserved_capacity) / num_workers\n",
    "\n",
    "\n",
    "    AGENT_CONFIG[\"num_workers\"] = num_workers\n",
    "    AGENT_CONFIG[\"num_gpus\"] = num_gpus\n",
    "    AGENT_CONFIG[\"num_envs_per_worker\"]= 8\n",
    "    \n",
    "\n",
    "#AGENT_CONFIG[\"num_gpus\"] = 1\n",
    "#AGENT_CONFIG[\"num_envs_per_worker\"]= 8\n",
    "AGENT_CONFIG[\"num_workers\"] = 10\n",
    "AGENT_CONFIG[\"num_gpus\"] = 1\n",
    "#AGENT_CONFIG[\"remote_worker_envs\"]= True"
   ]
  },
  {
   "cell_type": "code",
   "execution_count": 6,
   "metadata": {},
   "outputs": [
    {
     "data": {
      "text/html": [
       "== Status ==<br>Memory usage on this node: 7.2/47.1 GiB<br>Using FIFO scheduling algorithm.<br>Resources requested: 11.0/12 CPUs, 1.0/1 GPUs, 0.0/17.39 GiB heap, 0.0/23.28 GiB objects (0.0/1.0 accelerator_type:RTX)<br>Result logdir: /home/rdnfn/main/repos/github/solar-agent/notebooks/tmp/tune/experiment_08_test_beogym<br>Number of trials: 4/4 (3 PENDING, 1 RUNNING)<br><table>\n",
       "<thead>\n",
       "<tr><th>Trial name                     </th><th>status  </th><th>loc                  </th><th>env_config/general/grid_charging  </th><th>env_config/general/infeasible_control_penalty  </th><th style=\"text-align: right;\">   seed</th><th style=\"text-align: right;\">  iter</th><th style=\"text-align: right;\">  total time (s)</th><th style=\"text-align: right;\">   ts</th><th style=\"text-align: right;\">  reward</th><th style=\"text-align: right;\">  custom_metrics/cost_mean</th></tr>\n",
       "</thead>\n",
       "<tbody>\n",
       "<tr><td>PPO_battery_control_bc693_00000</td><td>RUNNING </td><td>192.168.34.159:159171</td><td>True                              </td><td>False                                          </td><td style=\"text-align: right;\">6893354</td><td style=\"text-align: right;\">     4</td><td style=\"text-align: right;\">         41.7865</td><td style=\"text-align: right;\">16000</td><td style=\"text-align: right;\">-21.3653</td><td style=\"text-align: right;\">                   21.3653</td></tr>\n",
       "<tr><td>PPO_battery_control_bc693_00001</td><td>PENDING </td><td>                     </td><td>False                             </td><td>False                                          </td><td style=\"text-align: right;\">4848991</td><td style=\"text-align: right;\">      </td><td style=\"text-align: right;\">                </td><td style=\"text-align: right;\">     </td><td style=\"text-align: right;\">        </td><td style=\"text-align: right;\">                          </td></tr>\n",
       "<tr><td>PPO_battery_control_bc693_00002</td><td>PENDING </td><td>                     </td><td>True                              </td><td>True                                           </td><td style=\"text-align: right;\">3656305</td><td style=\"text-align: right;\">      </td><td style=\"text-align: right;\">                </td><td style=\"text-align: right;\">     </td><td style=\"text-align: right;\">        </td><td style=\"text-align: right;\">                          </td></tr>\n",
       "<tr><td>PPO_battery_control_bc693_00003</td><td>PENDING </td><td>                     </td><td>False                             </td><td>True                                           </td><td style=\"text-align: right;\">8410283</td><td style=\"text-align: right;\">      </td><td style=\"text-align: right;\">                </td><td style=\"text-align: right;\">     </td><td style=\"text-align: right;\">        </td><td style=\"text-align: right;\">                          </td></tr>\n",
       "</tbody>\n",
       "</table><br><br>"
      ],
      "text/plain": [
       "<IPython.core.display.HTML object>"
      ]
     },
     "metadata": {},
     "output_type": "display_data"
    },
    {
     "name": "stderr",
     "output_type": "stream",
     "text": [
      "2021-11-05 19:40:29,917\tERROR tune.py:545 -- Trials did not complete: [PPO_battery_control_bc693_00000, PPO_battery_control_bc693_00001, PPO_battery_control_bc693_00002, PPO_battery_control_bc693_00003]\n",
      "2021-11-05 19:40:29,918\tWARNING tune.py:554 -- Experiment has been interrupted, but the most recent state was saved. You can continue running this experiment by passing `resume=True` to `tune.run()`\n"
     ]
    }
   ],
   "source": [
    "# Setting visualisation in notebook\n",
    "reporter = ray.tune.JupyterNotebookReporter(overwrite=True)\n",
    "reporter.add_metric_column(\"custom_metrics/cost_mean\")\n",
    "reporter.add_metric_column(\"custom_metrics/power_diff_mean\")\n",
    "\n",
    "# Running experiment\n",
    "analysis = ray.tune.run(\n",
    "    progress_reporter=reporter,\n",
    "    **EXPERIMENT_CONFIG,\n",
    "    #resume=True,\n",
    ")"
   ]
  },
  {
   "cell_type": "code",
   "execution_count": null,
   "metadata": {},
   "outputs": [],
   "source": []
  }
 ],
 "metadata": {
  "interpreter": {
   "hash": "4741782f5a2190d1336dcfca0935e293787f5cf4796cd7d3832fb5d6da8a52c6"
  },
  "kernelspec": {
   "display_name": "Python 3.7.10 64-bit (conda)",
   "language": "python",
   "name": "python3"
  },
  "language_info": {
   "codemirror_mode": {
    "name": "ipython",
    "version": 3
   },
   "file_extension": ".py",
   "mimetype": "text/x-python",
   "name": "python",
   "nbconvert_exporter": "python",
   "pygments_lexer": "ipython3",
   "version": "3.7.10"
  },
  "orig_nbformat": 4
 },
 "nbformat": 4,
 "nbformat_minor": 2
}
