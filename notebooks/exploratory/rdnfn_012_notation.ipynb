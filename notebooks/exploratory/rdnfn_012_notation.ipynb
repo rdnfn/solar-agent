{
 "cells": [
  {
   "cell_type": "markdown",
   "id": "397cc93d-511a-41b3-9f4c-ca126884dd1d",
   "metadata": {},
   "source": [
    "# Notation\n",
    "\n",
    "This notebook shows the notation used in this project."
   ]
  },
  {
   "cell_type": "code",
   "execution_count": 1,
   "id": "374ce45d-1cfa-47fb-bb04-f1d416cc3de4",
   "metadata": {},
   "outputs": [],
   "source": [
    "%load_ext autoreload\n",
    "%autoreload 2\n",
    "%config IPCompleter.greedy=True"
   ]
  },
  {
   "cell_type": "markdown",
   "id": "64131647-a5ef-4ff0-91ff-9880dcc190bc",
   "metadata": {},
   "source": [
    "## Show Pre-defined Notation Collection"
   ]
  },
  {
   "cell_type": "code",
   "execution_count": 2,
   "id": "e7bbf8e9-d501-4422-9619-2c42b0f40338",
   "metadata": {},
   "outputs": [
    {
     "data": {
      "text/markdown": [
       "Variable | Description | Unit | Python Name \n",
       "---|---|---|--- \n",
       "$E_\\text{b}(t)$ | energy content of the battery | kWh | `energy_battery`\n",
       "$I(t)$ | Boolean indicator variable whether battery is charging |  | `is_battery_charging`\n",
       "$\\bar{P}_{g\\rightarrow}(t)$ | Amount of power output of grid above threshold | kW | `power_out_grid_above_thresh`\n",
       "$B$ | energy capacity of battery | kWh | `size`\n",
       "$B_\\text{cell}$ | energy capacity per individual cell | kWh | `kWh_per_cell`\n",
       "$n_\\text{cell}$ | number of cells in battery | cells | `num_cells`\n",
       "$E_b (0)$ | initial energy content of battery at time step 0 | kWh | `initial_energy_content`\n",
       "$V_{\\text{nom},c}$ | nominal voltage of battery when charging | V | `nominal_voltage_c`\n",
       "$V_{\\text{nom},d}$ | nominal voltage of battery when discharging | V | `nominal_voltage_d`\n",
       "$\\eta_d$ | efficiency of discharging the battery, amount of energy content reduction for discharging 1 kWh | kWh | `eff_discharge`\n",
       "$\\eta_c$ | efficiency of charging the battery, amount of energy content increase for charging 1 kWh | kWh | `eff_charge`\n",
       "$\\pi_b$ | base price paid for energy drawn from the grid | \\$/kWh | `price_base`\n",
       "$\\pi_d$ | additional price penalty paid for energy drawn from the grid when demand is above threshold | \\$/kWh | `price_penalty`\n",
       "$\\Gamma$ | demand threshold above which price penalty is paid | kW | `grid_threshold`\n",
       "$T$ | number of time steps in an episode | steps | `num_timesteps`\n",
       "$\\Delta_t$ | length of a time step | hours | `len_timestep`\n"
      ],
      "text/plain": [
       "<IPython.core.display.Markdown object>"
      ]
     },
     "execution_count": 2,
     "metadata": {},
     "output_type": "execute_result"
    }
   ],
   "source": [
    "\n",
    "from solara.utils.notation import NOTATION\n",
    "from IPython.display import Markdown\n",
    "\n",
    "Markdown(NOTATION.get_mrkdwn_table_str())"
   ]
  },
  {
   "cell_type": "markdown",
   "id": "88517a65-6678-44a8-bdf2-ed21d184d253",
   "metadata": {},
   "source": [
    "## Setting Up Power Notation Collections"
   ]
  },
  {
   "cell_type": "code",
   "execution_count": 3,
   "id": "4264bf01-36cb-487d-b9e7-e98493fbf3cd",
   "metadata": {},
   "outputs": [],
   "source": [
    "import solara.utils.notation\n",
    "import solara.envs.wiring    \n",
    "\n",
    "power_flow = solara.envs.wiring.PowerFlow(['solar','battery','load','grid'], \n",
    "                                          fully_connected=False)\n",
    "\n",
    "power_flow.add_connection('solar','battery')\n",
    "power_flow.add_connection('solar','load')\n",
    "power_flow.add_connection('solar','grid')\n",
    "power_flow.add_connection('grid','battery')\n",
    "power_flow.add_connection('grid','load')\n",
    "power_flow.add_connection('battery','load')\n",
    "power_flow.add_connection('battery','grid')\n",
    "  \n",
    "power_notation = solara.utils.notation.NotationCollection(\n",
    "    solara.utils.notation.create_power_variables(power_flow, include_in_out_vars=True)\n",
    ")\n",
    "\n",
    "#Markdown(power_notation.get_mrkdwn_table_str())"
   ]
  },
  {
   "cell_type": "code",
   "execution_count": 4,
   "id": "6eda788f-d9bb-4c69-af0a-d197436b8301",
   "metadata": {},
   "outputs": [],
   "source": [
    "import solara.utils.notation\n",
    "import solara.envs.wiring    \n",
    "\n",
    "power_flow = solara.envs.wiring.PowerFlow(['x','y'], \n",
    "                                          fully_connected=True)\n",
    "#power_flow.add_connection('x','y')\n",
    "ex_power_notation = solara.utils.notation.NotationCollection(\n",
    "    solara.utils.notation.create_power_variables(power_flow)\n",
    ")\n",
    "\n",
    "#Markdown(ex_power_notation.get_mrkdwn_table_str())"
   ]
  },
  {
   "cell_type": "code",
   "execution_count": 5,
   "id": "0bd5a209-2ed6-4a59-bac1-0ad38a5e5519",
   "metadata": {},
   "outputs": [],
   "source": [
    "# Creating separate notation collections for variables and parameters\n",
    "\n",
    "complete_notation_list = NOTATION.notation_list + power_notation.notation_list\n",
    "\n",
    "cp_variables = [var_def for var_def in complete_notation_list if var_def.cp_type == \"variable\"]\n",
    "cp_parameters = [var_def for var_def in complete_notation_list if var_def.cp_type == \"parameter\"]\n",
    "\n",
    "cp_var_collection = solara.utils.notation.NotationCollection(cp_variables)\n",
    "cp_par_collection = solara.utils.notation.NotationCollection(cp_parameters)"
   ]
  },
  {
   "cell_type": "code",
   "execution_count": 6,
   "id": "5caaf6ad-5483-4111-9cbb-13bdd4038db5",
   "metadata": {},
   "outputs": [
    {
     "name": "stdout",
     "output_type": "stream",
     "text": [
      "\\substack{\\energybattery, \\isbatterycharging, \\poweroutgridabovethresh, \\powerflowsolar, \\\\ \\poweroutsolar, \\powerflowbattery, \\powerinbattery, \\poweroutbattery, \\\\ \\powerflowload, \\powerinload, \\powerflowgrid, \\poweringrid, \\\\ \\poweroutgrid, \\powersolartobattery, \\powersolartoload, \\powersolartogrid, \\\\ \\powerbatterytoload, \\powerbatterytogrid, \\powergridtobattery, \\powergridtoload}\n"
     ]
    }
   ],
   "source": [
    "# Create summary commands listing notation\n",
    "\n",
    "cp_var_cmds = [var_def.latex_cmd for var_def in cp_variables]\n",
    "cp_par_cmds = [var_def.latex_cmd for var_def in cp_parameters]\n",
    "\n",
    "def get_text_list_cmd(cmd_list):\n",
    "    return '$' + '$, $'.join(cmd_list[:-1]) + '$, and $' + cmd_list[-1] + \"$\"\n",
    "\n",
    "def get_math_list_cmd(cmd_list):\n",
    "    out_str = \"\\\\substack{\"\n",
    "    for i, cmd in enumerate(cmd_list):\n",
    "        out_str += cmd\n",
    "        if i < len(cmd_list)-1:\n",
    "            out_str += \", \"\n",
    "            if i % 4 == 3:\n",
    "                out_str += \"\\\\\\\\ \"\n",
    "    out_str += \"}\"\n",
    "    return out_str\n",
    "\n",
    "get_text_list_cmd(cp_par_cmds)\n",
    "print(get_math_list_cmd(cp_var_cmds))"
   ]
  },
  {
   "cell_type": "markdown",
   "id": "0c80a120-1ef2-41ad-ba53-37eadcd9db62",
   "metadata": {},
   "source": [
    "## Creating Latex Style File Content"
   ]
  },
  {
   "cell_type": "code",
   "execution_count": 7,
   "id": "2cfdcd72-cbcd-49a1-89e0-c4050d9f9907",
   "metadata": {},
   "outputs": [
    {
     "name": "stdout",
     "output_type": "stream",
     "text": [
      "\n",
      "%%% AUTOMATICALLY GENERATED NOTATION %%%\n",
      "\n",
      "\\NeedsTeXFormat{LaTeX2e}\n",
      "\\ProvidesPackage{autonotation}\n",
      "\n",
      "\n",
      "%%% Main Notation\n",
      "\\newcommand{\\energybattery}[1][(t)]{E_\\text{b}#1}\n",
      "\\newcommand{\\isbatterycharging}[1][(t)]{I#1}\n",
      "\\newcommand{\\poweroutgridabovethresh}[1][(t)]{\\bar{P}_{g\\rightarrow}#1}\n",
      "\\newcommand{\\size}{B}\n",
      "\\newcommand{\\kWhpercell}{B_\\text{cell}}\n",
      "\\newcommand{\\numcells}{n_\\text{cell}}\n",
      "\\newcommand{\\initialenergycontent}{E_b (0)}\n",
      "\\newcommand{\\nominalvoltagec}{V_{\\text{nom},c}}\n",
      "\\newcommand{\\nominalvoltaged}{V_{\\text{nom},d}}\n",
      "\\newcommand{\\effdischarge}{\\eta_d}\n",
      "\\newcommand{\\effcharge}{\\eta_c}\n",
      "\\newcommand{\\pricebase}{\\pi_b}\n",
      "\\newcommand{\\pricepenalty}{\\pi_d}\n",
      "\\newcommand{\\gridthreshold}{\\Gamma}\n",
      "\\newcommand{\\numtimesteps}{T}\n",
      "\\newcommand{\\lentimestep}{\\Delta_t}\n",
      "\n",
      "%%% Power Notation\n",
      "\\newcommand{\\powerflowsolar}[1][(t)]{P_s#1}\n",
      "\\newcommand{\\poweroutsolar}[1][(t)]{P_{s\\rightarrow }#1}\n",
      "\\newcommand{\\powerflowbattery}[1][(t)]{P_b#1}\n",
      "\\newcommand{\\powerinbattery}[1][(t)]{P_{\\rightarrow b}#1}\n",
      "\\newcommand{\\poweroutbattery}[1][(t)]{P_{b\\rightarrow }#1}\n",
      "\\newcommand{\\powerflowload}[1][(t)]{P_l#1}\n",
      "\\newcommand{\\powerinload}[1][(t)]{P_{\\rightarrow l}#1}\n",
      "\\newcommand{\\powerflowgrid}[1][(t)]{P_g#1}\n",
      "\\newcommand{\\poweringrid}[1][(t)]{P_{\\rightarrow g}#1}\n",
      "\\newcommand{\\poweroutgrid}[1][(t)]{P_{g\\rightarrow }#1}\n",
      "\\newcommand{\\powersolartobattery}[1][(t)]{P_{sb}#1}\n",
      "\\newcommand{\\powersolartoload}[1][(t)]{P_{sl}#1}\n",
      "\\newcommand{\\powersolartogrid}[1][(t)]{P_{sg}#1}\n",
      "\\newcommand{\\powerbatterytoload}[1][(t)]{P_{bl}#1}\n",
      "\\newcommand{\\powerbatterytogrid}[1][(t)]{P_{bg}#1}\n",
      "\\newcommand{\\powergridtobattery}[1][(t)]{P_{gb}#1}\n",
      "\\newcommand{\\powergridtoload}[1][(t)]{P_{gl}#1}\n",
      "\n",
      "%%% Example Power Notation\n",
      "\\newcommand{\\powerflowx}[1][(t)]{P_x#1}\n",
      "\\newcommand{\\powerinx}[1][(t)]{P_{\\rightarrow x}#1}\n",
      "\\newcommand{\\poweroutx}[1][(t)]{P_{x\\rightarrow }#1}\n",
      "\\newcommand{\\powerflowy}[1][(t)]{P_y#1}\n",
      "\\newcommand{\\poweriny}[1][(t)]{P_{\\rightarrow y}#1}\n",
      "\\newcommand{\\powerouty}[1][(t)]{P_{y\\rightarrow }#1}\n",
      "\\newcommand{\\powerxtoy}[1][(t)]{P_{xy}#1}\n",
      "\\newcommand{\\powerytox}[1][(t)]{P_{yx}#1}\n",
      "\n",
      "%%% Convex Problem Commands\n",
      "\\newcommand{\\allcpvariablesmath}{\\substack{\\energybattery, \\isbatterycharging, \\poweroutgridabovethresh, \\powerflowsolar, \\\\ \\poweroutsolar, \\powerflowbattery, \\powerinbattery, \\poweroutbattery, \\\\ \\powerflowload, \\powerinload, \\powerflowgrid, \\poweringrid, \\\\ \\poweroutgrid, \\powersolartobattery, \\powersolartoload, \\powersolartogrid, \\\\ \\powerbatterytoload, \\powerbatterytogrid, \\powergridtobattery, \\powergridtoload}}\n",
      "\\newcommand{\\allcpparameterstext}{$\\size$, $\\kWhpercell$, $\\numcells$, $\\initialenergycontent$, $\\nominalvoltagec$, $\\nominalvoltaged$, $\\effdischarge$, $\\effcharge$, $\\pricebase$, $\\pricepenalty$, $\\gridthreshold$, $\\numtimesteps$, and $\\lentimestep$}\n"
     ]
    }
   ],
   "source": [
    "# Print output to be copied in latex style file\n",
    "print(r\"\"\"\n",
    "%%% AUTOMATICALLY GENERATED NOTATION %%%\n",
    "\n",
    "\\NeedsTeXFormat{LaTeX2e}\n",
    "\\ProvidesPackage{autonotation}\n",
    "\"\"\")\n",
    "print(\"\\n%%% Main Notation\")\n",
    "NOTATION.print_notation_style()\n",
    "print(\"\\n%%% Power Notation\")\n",
    "power_notation.print_notation_style()\n",
    "print(\"\\n%%% Example Power Notation\")\n",
    "ex_power_notation.print_notation_style()\n",
    "print(\"\\n%%% Convex Problem Commands\")\n",
    "print(\"\\\\newcommand{{\\\\allcpvariablesmath}}{{{}}}\".format(get_math_list_cmd(cp_var_cmds)))\n",
    "print(\"\\\\newcommand{{\\\\allcpparameterstext}}{{{}}}\".format(get_text_list_cmd(cp_par_cmds)))"
   ]
  },
  {
   "cell_type": "markdown",
   "id": "67ec751e-f418-433c-8b2b-a4dc279d8bba",
   "metadata": {},
   "source": [
    "## Creating Tables for Report"
   ]
  },
  {
   "cell_type": "code",
   "execution_count": 8,
   "id": "aef7999d-0bd3-40f5-80be-11798b56e596",
   "metadata": {},
   "outputs": [
    {
     "data": {
      "text/markdown": [
       "\\begin{center}\n",
       "\\begin{tabular}{ l | p{8cm}| l}\n",
       "Name & Description & Unit  \\\\ \n",
       "\\hline$\\energybattery$ & energy content of the battery & kWh \\\\\n",
       "$\\isbatterycharging$ & Boolean indicator variable whether battery is charging &  \\\\\n",
       "$\\poweroutgridabovethresh$ & Amount of power output of grid above threshold & kW \\\\\n",
       "$\\powerflowsolar$ & power input(negative)/ output(positive) of solar & kW \\\\\n",
       "$\\poweroutsolar$ & power output from solar & kW \\\\\n",
       "$\\powerflowbattery$ & power input(negative)/ output(positive) of battery & kW \\\\\n",
       "$\\powerinbattery$ & power input to battery & kW \\\\\n",
       "$\\poweroutbattery$ & power output from battery & kW \\\\\n",
       "$\\powerflowload$ & power input(negative)/ output(positive) of load & kW \\\\\n",
       "$\\powerinload$ & power input to load & kW \\\\\n",
       "$\\powerflowgrid$ & power input(negative)/ output(positive) of grid & kW \\\\\n",
       "$\\poweringrid$ & power input to grid & kW \\\\\n",
       "$\\poweroutgrid$ & power output from grid & kW \\\\\n",
       "$\\powersolartobattery$ & power transferred from solar to battery & kW \\\\\n",
       "$\\powersolartoload$ & power transferred from solar to load & kW \\\\\n",
       "$\\powersolartogrid$ & power transferred from solar to grid & kW \\\\\n",
       "$\\powerbatterytoload$ & power transferred from battery to load & kW \\\\\n",
       "$\\powerbatterytogrid$ & power transferred from battery to grid & kW \\\\\n",
       "$\\powergridtobattery$ & power transferred from grid to battery & kW \\\\\n",
       "$\\powergridtoload$ & power transferred from grid to load & kW \\\\\n",
       "\\end{tabular}\n",
       "\\end{center}"
      ],
      "text/plain": [
       "<IPython.core.display.Markdown object>"
      ]
     },
     "metadata": {},
     "output_type": "display_data"
    },
    {
     "data": {
      "text/markdown": [
       "\\begin{center}\n",
       "\\begin{tabular}{ l | p{8cm}| l}\n",
       "Name & Description & Unit  \\\\ \n",
       "\\hline$\\size$ & energy capacity of battery & kWh \\\\\n",
       "$\\kWhpercell$ & energy capacity per individual cell & kWh \\\\\n",
       "$\\numcells$ & number of cells in battery & cells \\\\\n",
       "$\\initialenergycontent$ & initial energy content of battery at time step 0 & kWh \\\\\n",
       "$\\nominalvoltagec$ & nominal voltage of battery when charging & V \\\\\n",
       "$\\nominalvoltaged$ & nominal voltage of battery when discharging & V \\\\\n",
       "$\\effdischarge$ & efficiency of discharging the battery, amount of energy content reduction for discharging 1 kWh & kWh \\\\\n",
       "$\\effcharge$ & efficiency of charging the battery, amount of energy content increase for charging 1 kWh & kWh \\\\\n",
       "$\\pricebase$ & base price paid for energy drawn from the grid & \\$/kWh \\\\\n",
       "$\\pricepenalty$ & additional price penalty paid for energy drawn from the grid when demand is above threshold & \\$/kWh \\\\\n",
       "$\\gridthreshold$ & demand threshold above which price penalty is paid & kW \\\\\n",
       "$\\numtimesteps$ & number of time steps in an episode & steps \\\\\n",
       "$\\lentimestep$ & length of a time step & hours \\\\\n",
       "\\end{tabular}\n",
       "\\end{center}"
      ],
      "text/plain": [
       "<IPython.core.display.Markdown object>"
      ]
     },
     "metadata": {},
     "output_type": "display_data"
    }
   ],
   "source": [
    "display(Markdown(cp_var_collection.get_latex_table_str()))\n",
    "display(Markdown(cp_par_collection.get_latex_table_str()))"
   ]
  },
  {
   "cell_type": "code",
   "execution_count": 9,
   "id": "cf7803b5-4a93-4ba3-9e5f-afa47b56740f",
   "metadata": {},
   "outputs": [
    {
     "data": {
      "text/markdown": [
       "Variable | Description | Unit | Python Name \n",
       "---|---|---|--- \n",
       "$E_\\text{b}(t)$ | energy content of the battery | kWh | `energy_battery`\n",
       "$I(t)$ | Boolean indicator variable whether battery is charging |  | `is_battery_charging`\n",
       "$\\bar{P}_{g\\rightarrow}(t)$ | Amount of power output of grid above threshold | kW | `power_out_grid_above_thresh`\n",
       "$P_s(t)$ | power input(negative)/ output(positive) of solar | kW | `power_flow['solar']`\n",
       "$P_{s\\rightarrow }(t)$ | power output from solar | kW | `max(power_flow['solar'], 0)`\n",
       "$P_b(t)$ | power input(negative)/ output(positive) of battery | kW | `power_flow['battery']`\n",
       "$P_{\\rightarrow b}(t)$ | power input to battery | kW | `-min(power_flow['battery'], 0)`\n",
       "$P_{b\\rightarrow }(t)$ | power output from battery | kW | `max(power_flow['battery'], 0)`\n",
       "$P_l(t)$ | power input(negative)/ output(positive) of load | kW | `power_flow['load']`\n",
       "$P_{\\rightarrow l}(t)$ | power input to load | kW | `-min(power_flow['load'], 0)`\n",
       "$P_g(t)$ | power input(negative)/ output(positive) of grid | kW | `power_flow['grid']`\n",
       "$P_{\\rightarrow g}(t)$ | power input to grid | kW | `-min(power_flow['grid'], 0)`\n",
       "$P_{g\\rightarrow }(t)$ | power output from grid | kW | `max(power_flow['grid'], 0)`\n",
       "$P_{sb}(t)$ | power transferred from solar to battery | kW | `power_flow['solar','battery']`\n",
       "$P_{sl}(t)$ | power transferred from solar to load | kW | `power_flow['solar','load']`\n",
       "$P_{sg}(t)$ | power transferred from solar to grid | kW | `power_flow['solar','grid']`\n",
       "$P_{bl}(t)$ | power transferred from battery to load | kW | `power_flow['battery','load']`\n",
       "$P_{bg}(t)$ | power transferred from battery to grid | kW | `power_flow['battery','grid']`\n",
       "$P_{gb}(t)$ | power transferred from grid to battery | kW | `power_flow['grid','battery']`\n",
       "$P_{gl}(t)$ | power transferred from grid to load | kW | `power_flow['grid','load']`\n"
      ],
      "text/plain": [
       "<IPython.core.display.Markdown object>"
      ]
     },
     "metadata": {},
     "output_type": "display_data"
    },
    {
     "data": {
      "text/markdown": [
       "Variable | Description | Unit | Python Name \n",
       "---|---|---|--- \n",
       "$B$ | energy capacity of battery | kWh | `size`\n",
       "$B_\\text{cell}$ | energy capacity per individual cell | kWh | `kWh_per_cell`\n",
       "$n_\\text{cell}$ | number of cells in battery | cells | `num_cells`\n",
       "$E_b (0)$ | initial energy content of battery at time step 0 | kWh | `initial_energy_content`\n",
       "$V_{\\text{nom},c}$ | nominal voltage of battery when charging | V | `nominal_voltage_c`\n",
       "$V_{\\text{nom},d}$ | nominal voltage of battery when discharging | V | `nominal_voltage_d`\n",
       "$\\eta_d$ | efficiency of discharging the battery, amount of energy content reduction for discharging 1 kWh | kWh | `eff_discharge`\n",
       "$\\eta_c$ | efficiency of charging the battery, amount of energy content increase for charging 1 kWh | kWh | `eff_charge`\n",
       "$\\pi_b$ | base price paid for energy drawn from the grid | \\$/kWh | `price_base`\n",
       "$\\pi_d$ | additional price penalty paid for energy drawn from the grid when demand is above threshold | \\$/kWh | `price_penalty`\n",
       "$\\Gamma$ | demand threshold above which price penalty is paid | kW | `grid_threshold`\n",
       "$T$ | number of time steps in an episode | steps | `num_timesteps`\n",
       "$\\Delta_t$ | length of a time step | hours | `len_timestep`\n"
      ],
      "text/plain": [
       "<IPython.core.display.Markdown object>"
      ]
     },
     "metadata": {},
     "output_type": "display_data"
    }
   ],
   "source": [
    "# Equivalent Markdown Tables\n",
    "display(Markdown(cp_var_collection.get_mrkdwn_table_str()))\n",
    "display(Markdown(cp_par_collection.get_mrkdwn_table_str()))"
   ]
  },
  {
   "cell_type": "code",
   "execution_count": null,
   "id": "2f08f841-b442-4024-bfa3-c6397d5f171d",
   "metadata": {},
   "outputs": [],
   "source": []
  }
 ],
 "metadata": {
  "kernelspec": {
   "display_name": "Python 3",
   "language": "python",
   "name": "python3"
  },
  "language_info": {
   "codemirror_mode": {
    "name": "ipython",
    "version": 3
   },
   "file_extension": ".py",
   "mimetype": "text/x-python",
   "name": "python",
   "nbconvert_exporter": "python",
   "pygments_lexer": "ipython3",
   "version": "3.7.10"
  }
 },
 "nbformat": 4,
 "nbformat_minor": 5
}
