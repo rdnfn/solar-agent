{
 "cells": [
  {
   "cell_type": "markdown",
   "id": "397cc93d-511a-41b3-9f4c-ca126884dd1d",
   "metadata": {},
   "source": [
    "# Notation\n",
    "\n",
    "This notebook shows the notation used in this project."
   ]
  },
  {
   "cell_type": "code",
   "execution_count": 1,
   "id": "374ce45d-1cfa-47fb-bb04-f1d416cc3de4",
   "metadata": {},
   "outputs": [],
   "source": [
    "%load_ext autoreload\n",
    "%autoreload 2\n",
    "%config IPCompleter.greedy=True"
   ]
  },
  {
   "cell_type": "code",
   "execution_count": 2,
   "id": "e7bbf8e9-d501-4422-9619-2c42b0f40338",
   "metadata": {},
   "outputs": [
    {
     "data": {
      "text/markdown": [
       "Variable | Description | Unit | Python Name \n",
       "---|---|---|--- \n",
       "$P_\\text{c}$ | power used to charge the battery | kW | `power_charge`\n",
       "$P_\\text{d}$ | power discharged from the battery | kW | `power_discharge`\n",
       "$P_{\\text{solar}}$ | power coming from solar panels | kW | `power_solar`\n",
       "$P_{\\text{load}}$ | power used by residential load | kW | `power_load`\n",
       "$P_\\text{sell}$ | power sold to the grid | kW | `power_sell`\n",
       "$P_\\text{grid}$ | power drawn from the grid | kW | `power_grid`\n",
       "$P_\\text{direct}$ | sum of power from solar panels and grid that is used for load or sold | kW | `power_direct`\n",
       "$P_\\text{over}$ | power over peak demand threshold | kW | `power_over_thresh`\n",
       "$E_\\text{batt}$ | energy content of the battery | kWh | `energy_battery`\n",
       "$B$ | energy capacity of battery | kWh | `size`\n",
       "$B_\\text{cell}$ | energy capacity per individual cell | kWh | `kWh_per_cell`\n",
       "$n_\\text{cell}$ | number of cells in battery | cells | `num_cells`\n",
       "$V_{\\text{nom},c}$ | nominal voltage of battery when charging | V | `nominal_voltage_c`\n",
       "$V_{\\text{nom},d}$ | nominal voltage of battery when discharging | V | `nominal_voltage_d`\n",
       "$\\pi_b$ | base price paid for energy drawn from the grid | \\$/kWh | `price_base`\n",
       "$\\pi_d$ | additional price penalty paid for energy drawn from the grid when demand is above threshold | \\$/kWh | `price_penalty`\n",
       "$\\Gamma$ | demand threshold above which price penalty is paid | kW | `grid_threshold`\n",
       "$\\eta_d$ | efficiency of discharging the battery, amount of energy content reduction for discharging 1 kWh | kWh | `eff_discharge`\n",
       "$\\eta_c$ | efficiency of charging the battery, amount of energy content increase for charging 1 kWh | kWh | `eff_charge`\n",
       "$T$ | number of time steps in an episode | steps | `num_timesteps`\n",
       "$\\delta_\\text{step}$ | length of a timestep | hours | `len_timestep`\n"
      ],
      "text/plain": [
       "<IPython.core.display.Markdown object>"
      ]
     },
     "execution_count": 2,
     "metadata": {},
     "output_type": "execute_result"
    }
   ],
   "source": [
    "from solara.utils.notation import NOTATION\n",
    "from IPython.display import Markdown\n",
    "\n",
    "Markdown(NOTATION.get_mrkdwn_table_str())"
   ]
  },
  {
   "cell_type": "code",
   "execution_count": 3,
   "id": "705a0cc1-aaae-4191-b8d6-25559a496ce8",
   "metadata": {},
   "outputs": [
    {
     "name": "stdout",
     "output_type": "stream",
     "text": [
      "\\def\\powercharge{P_\\text{c}}\n",
      "\\def\\powerdischarge{P_\\text{d}}\n",
      "\\def\\powersolar{P_{\\text{solar}}}\n",
      "\\def\\powerload{P_{\\text{load}}}\n",
      "\\def\\powersell{P_\\text{sell}}\n",
      "\\def\\powergrid{P_\\text{grid}}\n",
      "\\def\\powerdirect{P_\\text{direct}}\n",
      "\\def\\poweroverthresh{P_\\text{over}}\n",
      "\\def\\energybattery{E_\\text{batt}}\n",
      "\\def\\size{B}\n",
      "\\def\\kWhpercell{B_\\text{cell}}\n",
      "\\def\\numcells{n_\\text{cell}}\n",
      "\\def\\nominalvoltagec{V_{\\text{nom},c}}\n",
      "\\def\\nominalvoltaged{V_{\\text{nom},d}}\n",
      "\\def\\pricebase{\\pi_b}\n",
      "\\def\\pricepenalty{\\pi_d}\n",
      "\\def\\gridthreshold{\\Gamma}\n",
      "\\def\\effdischarge{\\eta_d}\n",
      "\\def\\effcharge{\\eta_c}\n",
      "\\def\\numtimesteps{T}\n",
      "\\def\\lentimestep{\\delta_\\text{step}}\n"
     ]
    }
   ],
   "source": [
    "# Print notation command definitions for latex math\n",
    "NOTATION.print_notation_style()"
   ]
  },
  {
   "cell_type": "code",
   "execution_count": 4,
   "id": "4d1296a8-db12-4da7-aa3d-f90f2675a496",
   "metadata": {},
   "outputs": [
    {
     "name": "stdout",
     "output_type": "stream",
     "text": [
      "\\begin{center}\n",
      "\\begin{tabular}{ l p{6cm} l l}\n",
      "Variable & Description & Unit & Python Name \\\\ \n",
      "\\hline$P_\\text{c}$ & power used to charge the battery & kW & \\texttt{power\\_charge} \\\\\n",
      "$P_\\text{d}$ & power discharged from the battery & kW & \\texttt{power\\_discharge} \\\\\n",
      "$P_{\\text{solar}}$ & power coming from solar panels & kW & \\texttt{power\\_solar} \\\\\n",
      "$P_{\\text{load}}$ & power used by residential load & kW & \\texttt{power\\_load} \\\\\n",
      "$P_\\text{sell}$ & power sold to the grid & kW & \\texttt{power\\_sell} \\\\\n",
      "$P_\\text{grid}$ & power drawn from the grid & kW & \\texttt{power\\_grid} \\\\\n",
      "$P_\\text{direct}$ & sum of power from solar panels and grid that is used for load or sold & kW & \\texttt{power\\_direct} \\\\\n",
      "$P_\\text{over}$ & power over peak demand threshold & kW & \\texttt{power\\_over\\_thresh} \\\\\n",
      "$E_\\text{batt}$ & energy content of the battery & kWh & \\texttt{energy\\_battery} \\\\\n",
      "$B$ & energy capacity of battery & kWh & \\texttt{size} \\\\\n",
      "$B_\\text{cell}$ & energy capacity per individual cell & kWh & \\texttt{kWh\\_per\\_cell} \\\\\n",
      "$n_\\text{cell}$ & number of cells in battery & cells & \\texttt{num\\_cells} \\\\\n",
      "$V_{\\text{nom},c}$ & nominal voltage of battery when charging & V & \\texttt{nominal\\_voltage\\_c} \\\\\n",
      "$V_{\\text{nom},d}$ & nominal voltage of battery when discharging & V & \\texttt{nominal\\_voltage\\_d} \\\\\n",
      "$\\pi_b$ & base price paid for energy drawn from the grid & \\$/kWh & \\texttt{price\\_base} \\\\\n",
      "$\\pi_d$ & additional price penalty paid for energy drawn from the grid when demand is above threshold & \\$/kWh & \\texttt{price\\_penalty} \\\\\n",
      "$\\Gamma$ & demand threshold above which price penalty is paid & kW & \\texttt{grid\\_threshold} \\\\\n",
      "$\\eta_d$ & efficiency of discharging the battery, amount of energy content reduction for discharging 1 kWh & kWh & \\texttt{eff\\_discharge} \\\\\n",
      "$\\eta_c$ & efficiency of charging the battery, amount of energy content increase for charging 1 kWh & kWh & \\texttt{eff\\_charge} \\\\\n",
      "$T$ & number of time steps in an episode & steps & \\texttt{num\\_timesteps} \\\\\n",
      "$\\delta_\\text{step}$ & length of a timestep & hours & \\texttt{len\\_timestep} \\\\\n",
      "\\end{tabular}\n",
      "\\end{center}\n"
     ]
    }
   ],
   "source": [
    "# Print latex table\n",
    "print(NOTATION.get_latex_table_str())"
   ]
  },
  {
   "cell_type": "code",
   "execution_count": 5,
   "id": "8c2ba7b4-a313-484e-8baa-145f72e14179",
   "metadata": {},
   "outputs": [],
   "source": [
    "# TODO\n",
    "# Remaining battery variables to be added from model\n",
    "\n",
    "# u1 = 0.1920\n",
    "# v1_bar = 0.0\n",
    "# u2 = -0.4865\n",
    "# v2_bar = kWh_per_cell * num_cells\n",
    "# alpha_bar_d = (\n",
    "#     v2_bar * 1\n",
    "# )  # the 1 indicates the maximum discharging C-rate\n",
    "# alpha_bar_c = (\n",
    "#     v2_bar * 1\n",
    "# )  # the 1 indicates the maximum charging C-rate"
   ]
  },
  {
   "cell_type": "code",
   "execution_count": null,
   "id": "4264bf01-36cb-487d-b9e7-e98493fbf3cd",
   "metadata": {},
   "outputs": [],
   "source": []
  }
 ],
 "metadata": {
  "kernelspec": {
   "display_name": "Python 3",
   "language": "python",
   "name": "python3"
  },
  "language_info": {
   "codemirror_mode": {
    "name": "ipython",
    "version": 3
   },
   "file_extension": ".py",
   "mimetype": "text/x-python",
   "name": "python",
   "nbconvert_exporter": "python",
   "pygments_lexer": "ipython3",
   "version": "3.7.10"
  }
 },
 "nbformat": 4,
 "nbformat_minor": 5
}
