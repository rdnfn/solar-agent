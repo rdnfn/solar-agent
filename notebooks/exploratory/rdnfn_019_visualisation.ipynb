{
 "cells": [
  {
   "cell_type": "markdown",
   "id": "c31ec201-6ade-4a6c-812a-aefb87af8115",
   "metadata": {},
   "source": [
    "# Notebook with Initial Experiment Visualisation Attempts"
   ]
  },
  {
   "cell_type": "code",
   "execution_count": null,
   "id": "1f86a3d0-be82-4af5-8011-75d158689e7d",
   "metadata": {},
   "outputs": [],
   "source": [
    "# Jupyter setup\n",
    "%load_ext autoreload\n",
    "%autoreload 2\n",
    "%config IPCompleter.greedy=True"
   ]
  },
  {
   "cell_type": "code",
   "execution_count": null,
   "id": "476433cf-fd48-44e7-8b38-38725c992f04",
   "metadata": {},
   "outputs": [],
   "source": [
    "import matplotlib.pyplot as plt\n",
    "import numpy as np\n",
    "import seaborn as sns"
   ]
  },
  {
   "cell_type": "code",
   "execution_count": null,
   "id": "ddec7e38-d4ba-4d8d-884e-93572fd58f28",
   "metadata": {},
   "outputs": [],
   "source": [
    "from solara.constants import PROJECT_PATH"
   ]
  },
  {
   "cell_type": "code",
   "execution_count": null,
   "id": "1bf45bae-be42-40a9-8235-d5628d7bad5b",
   "metadata": {},
   "outputs": [],
   "source": [
    "EXPERIMENT_NAME = \"experiment_01_penalty_grid\"\n",
    "PLOT_DIR = PROJECT_PATH + \"/figures/experiments/\""
   ]
  },
  {
   "cell_type": "code",
   "execution_count": null,
   "id": "fb123a9f-4c64-4046-aff5-3c6a0ae2efc9",
   "metadata": {},
   "outputs": [],
   "source": [
    "import ray.tune\n",
    "\n",
    "path = \"./tmp/tune/PPO/experiment_state-2021-07-02_12-12-08.json\"\n",
    "path = \"./tmp/tune/experiment_01_penalty_grid/\" #experiment_state-2021-07-02_18-09-31.json\"\n",
    "path = \"./tmp/tune/PPO/\"#experiment_state-2021-07-02_12-12-08.json\"\n"
   ]
  },
  {
   "cell_type": "code",
   "execution_count": null,
   "id": "fe3f0ae9-a6bc-4a19-8e7d-e72573edc606",
   "metadata": {},
   "outputs": [],
   "source": [
    "import os\n",
    "\n",
    "path = \"./tmp/tune/experiment_01_penalty_grid/\"\n",
    "state_files = [filename for filename in os.listdir(path) if \"experiment_state\" in filename ]\n",
    "last_state_file = sorted(state_files, reverse=True)[0]\n",
    "\n",
    "analysis = ray.tune.ExperimentAnalysis(experiment_checkpoint_path=path + last_state_file)"
   ]
  },
  {
   "cell_type": "code",
   "execution_count": null,
   "id": "24477f56-55de-45d7-8791-d3a9dcfa528b",
   "metadata": {},
   "outputs": [],
   "source": [
    "import pandas as pd\n",
    "pd.options.display.max_columns=1000"
   ]
  },
  {
   "cell_type": "code",
   "execution_count": null,
   "id": "32c2e86c-6419-4f27-b5a2-ca87f4ce2e4b",
   "metadata": {},
   "outputs": [],
   "source": [
    "analysis.dataframe(metric=\"custom_metrics/cost_mean\",mode=\"min\")[\"custom_metrics/cost_mean\"]#[\"config/env_config\"][0]['general']['grid_charging']"
   ]
  },
  {
   "cell_type": "code",
   "execution_count": null,
   "id": "aba374b5-a53b-41f3-9c31-ef601b345b42",
   "metadata": {},
   "outputs": [],
   "source": [
    "trials = analysis.fetch_trial_dataframes()"
   ]
  },
  {
   "cell_type": "code",
   "execution_count": null,
   "id": "8428eb2b-cd93-4d7c-95ba-b1107d952265",
   "metadata": {},
   "outputs": [],
   "source": [
    "trials = {key: trials[key] for key in sorted(trials.keys())} "
   ]
  },
  {
   "cell_type": "code",
   "execution_count": null,
   "id": "89ac71b6-0f04-4b4e-bd80-07b52049d57e",
   "metadata": {},
   "outputs": [],
   "source": [
    "def setup_matplotlib():\n",
    "    plt.figure(figsize = (6, 4), \n",
    "               dpi = 100,\n",
    "               tight_layout= True)\n",
    "    sns.set_style(\"ticks\", {\"dashes\":False})\n",
    "    sns.set_context(\"paper\")\n",
    "    #sns.set_theme(style=\"whitegrid\")\n",
    "    #sns.set_palette()"
   ]
  },
  {
   "cell_type": "code",
   "execution_count": null,
   "id": "d65efbf9-7c49-408f-b4c8-0b641ea274ba",
   "metadata": {},
   "outputs": [],
   "source": [
    "def plot_trials(trials, \n",
    "                necessary_cond=None,\n",
    "                other_conditions=None, \n",
    "                experiment_name=\"default_experiment\",\n",
    "                plot_name = \"plot_00_default\",\n",
    "                plot_dir = \"./figures\"):\n",
    "    \n",
    "    setup_matplotlib()\n",
    "    \n",
    "    other_conditions = list(other_conditions)\n",
    "    \n",
    "    for trial_name, trial_data in trials.items():\n",
    "        if necessary_cond is None or necessary_cond[1] in trial_name:\n",
    "            label = \"\"\n",
    "            \n",
    "            for i, (cond_label, condition) in enumerate(other_conditions):\n",
    "                if condition in trial_name:\n",
    "                    label += cond_label\n",
    "                else: \n",
    "                    label += \"no \" + cond_label\n",
    "                if i < len(other_conditions) - 1:\n",
    "                    label += \", \"\n",
    "            \n",
    "            label = label.capitalize()\n",
    "            \n",
    "            trace_len = 150\n",
    "            x_values = np.arange(1,trace_len+1)\n",
    "            ticks_gap = 25\n",
    "            x_ticks = [1] + list(np.arange(ticks_gap,150+1, ticks_gap)) + [trace_len]\n",
    "            trace = trial_data[\"custom_metrics/cost_mean\"][0:trace_len]\n",
    "            plt.plot(x_values,trace, label=label)\n",
    "            \n",
    "    plt.semilogy()\n",
    "    plt.legend()\n",
    "    plt.xlabel(\"Training iteration\")\n",
    "    plt.ylabel(\"Average cost per episode ($)\")\n",
    "    plt.xticks(x_ticks)\n",
    "    \n",
    "    plt.savefig(fname=plot_dir + experiment_name + \"_\" + plot_name + \".png\")"
   ]
  },
  {
   "cell_type": "code",
   "execution_count": null,
   "id": "e223a2e7-36e7-4bfc-89df-6e6e63f8b32d",
   "metadata": {},
   "outputs": [],
   "source": [
    "plot_trials(trials, \n",
    "            necessary_cond=[\"grid charging\", \"grid_charging=False\"], \n",
    "            other_conditions=[[\"penalty\",\"infeasible_control_penalty=True\"]],\n",
    "            experiment_name=EXPERIMENT_NAME,\n",
    "            plot_dir=PLOT_DIR,\n",
    "            plot_name=\"plot_01_penalty\")"
   ]
  },
  {
   "cell_type": "code",
   "execution_count": null,
   "id": "a50cfcf4-62e8-4d5b-850b-50e06c58f63c",
   "metadata": {},
   "outputs": [],
   "source": [
    "plot_trials(trials, \n",
    "            necessary_cond=[\"penalty\",\"infeasible_control_penalty=False\"], \n",
    "            other_conditions=[[\"grid charging\", \"grid_charging=True\"]],\n",
    "            experiment_name=EXPERIMENT_NAME,\n",
    "            plot_dir=PLOT_DIR,\n",
    "            plot_name=\"plot_02_grid_charging_no_penalty\")"
   ]
  },
  {
   "cell_type": "code",
   "execution_count": null,
   "id": "aec85d1b-ab7a-4400-b566-74f0bebb9663",
   "metadata": {},
   "outputs": [],
   "source": [
    "plot_trials(trials, \n",
    "            necessary_cond=[\"penalty\",\"infeasible_control_penalty=True\"], \n",
    "            other_conditions=[[\"grid charging\", \"grid_charging=True\"]],\n",
    "            experiment_name=EXPERIMENT_NAME,\n",
    "            plot_dir=PLOT_DIR,\n",
    "            plot_name=\"plot_03_grid_charging_with_penalty\")"
   ]
  },
  {
   "cell_type": "code",
   "execution_count": null,
   "id": "4f714b09-b8a1-4502-97ba-cd63588fcd57",
   "metadata": {},
   "outputs": [],
   "source": [
    "other_conditions = [[\"penalty\",\"infeasible_control_penalty=True\"],\n",
    "                    [\"grid charging\", \"grid_charging=True\"],]\n",
    "\n",
    "\n",
    "plot_trials(trials, necessary_cond=None, other_conditions=other_conditions,\n",
    "            experiment_name=EXPERIMENT_NAME,\n",
    "            plot_dir=PLOT_DIR,\n",
    "            plot_name=\"plot_04_all_trials\")"
   ]
  },
  {
   "cell_type": "code",
   "execution_count": null,
   "id": "d08cdc82-346d-4b06-8813-238bd8ac7d49",
   "metadata": {},
   "outputs": [],
   "source": []
  },
  {
   "cell_type": "code",
   "execution_count": null,
   "id": "983fa4b7-c10f-4b02-9ce1-22663d3a662c",
   "metadata": {},
   "outputs": [],
   "source": []
  }
 ],
 "metadata": {
  "kernelspec": {
   "display_name": "Python 3 (ipykernel)",
   "language": "python",
   "name": "python3"
  },
  "language_info": {
   "codemirror_mode": {
    "name": "ipython",
    "version": 3
   },
   "file_extension": ".py",
   "mimetype": "text/x-python",
   "name": "python",
   "nbconvert_exporter": "python",
   "pygments_lexer": "ipython3",
   "version": "3.7.10"
  }
 },
 "nbformat": 4,
 "nbformat_minor": 5
}
