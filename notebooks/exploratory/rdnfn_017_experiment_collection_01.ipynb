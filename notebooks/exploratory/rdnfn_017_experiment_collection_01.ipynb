{
 "cells": [
  {
   "cell_type": "markdown",
   "id": "90cd09ba-0caf-460c-8dc2-112ef6198cac",
   "metadata": {},
   "source": [
    "# Experiment Collection #01\n",
    "\n",
    "This notebook contains experiments regarding the use of a penalty term."
   ]
  },
  {
   "cell_type": "markdown",
   "id": "112286d9-6b0d-45b1-8d69-e516c290c04b",
   "metadata": {},
   "source": [
    "## 1. Basic Setup"
   ]
  },
  {
   "cell_type": "code",
   "execution_count": null,
   "id": "f5771fe1-6231-46b2-b4ce-98f9ce02e890",
   "metadata": {},
   "outputs": [],
   "source": [
    "# Jupyter setup\n",
    "%load_ext autoreload\n",
    "%autoreload 2\n",
    "%config IPCompleter.greedy=True"
   ]
  },
  {
   "cell_type": "code",
   "execution_count": null,
   "id": "7e24471a-fa05-470f-9b50-b70c66c58953",
   "metadata": {},
   "outputs": [],
   "source": [
    "import ray\n",
    "ray.shutdown()"
   ]
  },
  {
   "cell_type": "code",
   "execution_count": null,
   "id": "cd77e9a3-1690-45ff-b5bf-8eef57339043",
   "metadata": {},
   "outputs": [],
   "source": [
    "import ray\n",
    "import ray.rllib\n",
    "import ray.tune \n",
    "import solara.envs.creator\n",
    "\n",
    "## Initialising ray (starts background process for distributed computing)\n",
    "ray.shutdown()\n",
    "ray.init(logging_level=\"WARNING\", object_store_memory=0.5 * 10**9)\n",
    "\n",
    "# Adding environment creator function to ray\n",
    "ray.tune.registry.register_env(\"battery_control\", solara.envs.creator.create_env)"
   ]
  },
  {
   "cell_type": "code",
   "execution_count": null,
   "id": "f0a70aae-4d5e-4be3-8d20-f80c00dd8434",
   "metadata": {},
   "outputs": [],
   "source": [
    "ray.available_resources()"
   ]
  },
  {
   "cell_type": "markdown",
   "id": "41dbd3da-5d40-4fe2-b7f2-d018a85a4ae1",
   "metadata": {},
   "source": [
    "## 2. Experiment Definition"
   ]
  },
  {
   "cell_type": "code",
   "execution_count": null,
   "id": "83c6cdce-2d29-4fc9-94ac-d444dba8c3d4",
   "metadata": {},
   "outputs": [],
   "source": [
    "from solara.constants import PROJECT_PATH\n",
    "\n",
    "# RL environment configuration\n",
    "ENV_CONFIG = {\n",
    "    'general': {\n",
    "        'type': 'battery_control.BatteryControlEnv',\n",
    "        'infeasible_control_penalty': ray.tune.grid_search([False, True]),\n",
    "        'grid_charging': ray.tune.grid_search([True, False]),\n",
    "        'logging_level': \"RAY\", # if using RLlib, set to 'RAY'\n",
    "    },\n",
    "    'components': {\n",
    "        'battery': {\n",
    "            'type': 'LithiumIonBattery',\n",
    "            'size': 10,\n",
    "            'chemistry': 'NMC',\n",
    "            'time_step_len': 1,\n",
    "        },\n",
    "        'solar': {\n",
    "            'type': 'DataPV',\n",
    "            'data_path': PROJECT_PATH + \"/data/solar_trace_data/PV_5796.txt\",\n",
    "            'fixed_sample_num': 12,\n",
    "        },\n",
    "        'load': {\n",
    "            'type': 'DataLoad',\n",
    "            'data_path': PROJECT_PATH + \"/data/solar_trace_data/load_5796.txt\",\n",
    "            'fixed_sample_num': 12,\n",
    "        },\n",
    "        'grid': {\n",
    "            'type': 'PeakGrid',\n",
    "            'peak_threshold': 1.0,\n",
    "        },\n",
    "    },\n",
    "}\n",
    "\n",
    "# RL agent configuration\n",
    "AGENT_CONFIG = {\n",
    "    \"framework\": \"torch\",\n",
    "    \"num_workers\": 1,\n",
    "    \"env\": \"battery_control\",\n",
    "    \"env_config\": ENV_CONFIG,\n",
    "    \"gamma\": 0.9999999,\n",
    "    \"log_level\": \"WARNING\",\n",
    "    \"lr\": 5e-5,\n",
    "    \"model\": {\n",
    "        \"fcnet_hiddens\": [256, 256, 256, 256],\n",
    "        \"fcnet_activation\": \"relu\",\n",
    "        \"post_fcnet_activation\": \"tanh\",\n",
    "    },\n",
    "}\n",
    "\n",
    "# Full experiment configuration including RL algorithm type\n",
    "EXPERIMENT_CONFIG = {\n",
    "    \"run_or_experiment\": \"PPO\",\n",
    "    \"config\": AGENT_CONFIG,\n",
    "    \"stop\": {\"training_iteration\": 2},\n",
    "    \"local_dir\": \"./tmp/tune/\",\n",
    "    \"log_to_file\": True,\n",
    "    \"checkpoint_freq\": 1,\n",
    "}"
   ]
  },
  {
   "cell_type": "code",
   "execution_count": null,
   "id": "fa610149-a6e9-45c7-a4d9-0e422893d046",
   "metadata": {},
   "outputs": [],
   "source": [
    "analysis = ray.tune.run(\n",
    "    progress_reporter=ray.tune.JupyterNotebookReporter(overwrite=True,\n",
    "                                                       #metric_columns=[\"cost\"]\n",
    "                                                      ), #This only defines what the progress looks like in this notebook\n",
    "    **EXPERIMENT_CONFIG,\n",
    ")"
   ]
  },
  {
   "cell_type": "code",
   "execution_count": null,
   "id": "3cf6cdd3-c625-448a-a05e-9aeac472afbd",
   "metadata": {},
   "outputs": [],
   "source": [
    "ray.tune.JupyterNotebookReporter"
   ]
  },
  {
   "cell_type": "code",
   "execution_count": null,
   "id": "b355f03d-b560-4f5e-b833-fa2a88a41b7b",
   "metadata": {},
   "outputs": [],
   "source": [
    "ray.rllib.agents.ppo.PPOTrainer"
   ]
  },
  {
   "cell_type": "code",
   "execution_count": null,
   "id": "2cc9fbcd-9629-4515-a6e0-51ca692d0a4a",
   "metadata": {},
   "outputs": [],
   "source": [
    "analysis.results"
   ]
  },
  {
   "cell_type": "code",
   "execution_count": null,
   "id": "0eafd9d6-78e6-48e6-8880-e300bca1c243",
   "metadata": {},
   "outputs": [],
   "source": []
  }
 ],
 "metadata": {
  "kernelspec": {
   "display_name": "Python 3",
   "language": "python",
   "name": "python3"
  },
  "language_info": {
   "codemirror_mode": {
    "name": "ipython",
    "version": 3
   },
   "file_extension": ".py",
   "mimetype": "text/x-python",
   "name": "python",
   "nbconvert_exporter": "python",
   "pygments_lexer": "ipython3",
   "version": "3.7.10"
  }
 },
 "nbformat": 4,
 "nbformat_minor": 5
}
