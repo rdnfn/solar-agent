{
 "cells": [
  {
   "cell_type": "code",
   "execution_count": null,
   "id": "befc4e81-3b81-45e8-80c0-bc77dae68f91",
   "metadata": {},
   "outputs": [],
   "source": [
    "# Jupyter setup\n",
    "%load_ext autoreload\n",
    "%autoreload 2\n",
    "%config IPCompleter.greedy=True"
   ]
  },
  {
   "cell_type": "code",
   "execution_count": null,
   "id": "8b65a459-2a88-477e-a0a3-450fdb6dea86",
   "metadata": {},
   "outputs": [],
   "source": [
    "import ray\n",
    "import ray.rllib\n",
    "import ray.tune \n",
    "import solara.envs.creator\n",
    "\n",
    "## Initialising ray (starts background process for distributed computing)\n",
    "ray.shutdown()\n",
    "ray.init(logging_level=\"WARNING\", object_store_memory=10**9)\n",
    "\n",
    "# Adding environment creator function to ray\n",
    "ray.tune.registry.register_env(\"battery_control\", solara.envs.creator.create_env)"
   ]
  },
  {
   "cell_type": "code",
   "execution_count": null,
   "id": "45ae9887-e582-4df0-bfa5-de8be01fec96",
   "metadata": {},
   "outputs": [],
   "source": [
    "from solara.constants import PROJECT_PATH\n",
    "\n",
    "ENV_CONFIG = {\n",
    "    'general': {\n",
    "        'type': 'battery_control.BatteryControlEnv',\n",
    "        'infeasible_control_penalty': True,\n",
    "        'grid_charging': True,\n",
    "        'logging_level': \"WARNING\", # if using RLlib, set to 'RAY'\n",
    "    },\n",
    "    'components': {\n",
    "        'battery': {\n",
    "            'type': 'LithiumIonBattery',\n",
    "            'size': 10,\n",
    "            'chemistry': 'NMC',\n",
    "            'time_step_len': 1,\n",
    "        },\n",
    "        'solar': {\n",
    "            'type': 'DataPV',\n",
    "            'data_path': PROJECT_PATH + \"/data/solar_trace_data/PV_5796.txt\",\n",
    "            #'fixed_sample_num': 12,\n",
    "        },\n",
    "        'load': {\n",
    "            'type': 'DataLoad',\n",
    "            'data_path': PROJECT_PATH + \"/data/solar_trace_data/load_5796.txt\",\n",
    "            #'fixed_sample_num': 12,\n",
    "        },\n",
    "        'grid': {\n",
    "            'type': 'PeakGrid',\n",
    "            'peak_threshold': 1.0,\n",
    "        },\n",
    "    },\n",
    "}\n",
    "\n",
    "AGENT_CONFIG = {\n",
    "    \"framework\": \"torch\",\n",
    "    \"env\": \"battery_control\",\n",
    "    \"env_config\": ENV_CONFIG,\n",
    "    \"gamma\": 0.9999999,\n",
    "    \"log_level\": \"WARNING\",\n",
    "    \"lr\": 5e-5,\n",
    "    \"model\": {\n",
    "        \"fcnet_hiddens\": [256, 256, 256, 256],\n",
    "        \"fcnet_activation\": \"relu\",\n",
    "        \"post_fcnet_activation\": \"tanh\",\n",
    "    },\n",
    "}\n",
    "\n",
    "agent_class = ray.rllib.agents.ppo.PPOTrainer"
   ]
  },
  {
   "cell_type": "code",
   "execution_count": null,
   "id": "b981eb27-57bd-4a16-9f0d-fabd1d141fbe",
   "metadata": {},
   "outputs": [],
   "source": [
    "analysis = ray.tune.run(\n",
    "    agent_class, \n",
    "    config=AGENT_CONFIG, \n",
    "    stop={\"training_iteration\": 500},\n",
    "    local_dir=\"./tmp/tune/\",\n",
    "    log_to_file=True,\n",
    "    progress_reporter=ray.tune.JupyterNotebookReporter(overwrite=True),\n",
    "    checkpoint_freq=1,\n",
    ")"
   ]
  },
  {
   "cell_type": "code",
   "execution_count": 6,
   "id": "5cef7c81-839f-4290-9fc8-9fe7fd6f08e1",
   "metadata": {},
   "outputs": [
    {
     "name": "stderr",
     "output_type": "stream",
     "text": [
      "2021-06-07 22:55:16,504\tWARNING util.py:53 -- Install gputil for GPU system monitoring.\n"
     ]
    },
    {
     "data": {
      "application/vnd.jupyter.widget-view+json": {
       "model_id": "92b13824d87d42f08e5f44738c8ed4b6",
       "version_major": 2,
       "version_minor": 0
      },
      "text/plain": [
       "InteractiveEpisodes(children=(VBox(children=(HBox(children=(Play(value=1, interval=400, max=282, min=1), IntSl…"
      ]
     },
     "metadata": {},
     "output_type": "display_data"
    }
   ],
   "source": [
    "import solara.utils.rllib\n",
    "import solara.plot.widgets\n",
    "import copy\n",
    "\n",
    "# We visualise on fixed load and solar data\n",
    "FIXED_AGENT_CONFIG = copy.deepcopy(AGENT_CONFIG)\n",
    "FIXED_AGENT_CONFIG[\"env_config\"][\"components\"][\"solar\"]['fixed_sample_num'] = 12\n",
    "FIXED_AGENT_CONFIG[\"env_config\"][\"components\"][\"load\"]['fixed_sample_num'] = 12\n",
    "\n",
    "agent_instance = agent_class(FIXED_AGENT_CONFIG)\n",
    "#checkpoint_path = analysis.get_trial_checkpoints_paths(\n",
    "#    trial=analysis.get_best_trial(\"episode_reward_mean\", mode=\"max\")\n",
    "#)[0][0][:-30]\n",
    "checkpoint_path = './tmp/tune/PPO_2021-06-07_18-21-37/PPO_battery_control_d0b10_00000_0_2021-06-07_18-21-37/'\n",
    "\n",
    "episodes_data = solara.utils.rllib.run_episodes_from_checkpoints(agent=agent_instance, \n",
    "                                                                 check_save_path=checkpoint_path)\n",
    "initial_visibility = ['load','pv_gen','energy_cont','net_load',\n",
    "                      'charging_power','cost','price_threshold',\n",
    "                      'actions']\n",
    "\n",
    "solara.plot.widgets.InteractiveEpisodes(episodes_data, initial_visibility=initial_visibility)"
   ]
  },
  {
   "cell_type": "code",
   "execution_count": 7,
   "id": "5d98d316-a4dd-495a-a35d-f4ea785dfdd6",
   "metadata": {},
   "outputs": [
    {
     "name": "stderr",
     "output_type": "stream",
     "text": [
      "2021-06-07 22:57:59,662\tWARNING util.py:53 -- Install gputil for GPU system monitoring.\n"
     ]
    },
    {
     "data": {
      "application/vnd.jupyter.widget-view+json": {
       "model_id": "6e2969e31407470b9a527cdbb270df17",
       "version_major": 2,
       "version_minor": 0
      },
      "text/plain": [
       "InteractiveEpisodes(children=(VBox(children=(HBox(children=(Play(value=1, interval=400, max=282, min=1), IntSl…"
      ]
     },
     "metadata": {},
     "output_type": "display_data"
    }
   ],
   "source": [
    "agent_instance = agent_class(AGENT_CONFIG)\n",
    "#checkpoint_path = analysis.get_trial_checkpoints_paths(\n",
    "#    trial=analysis.get_best_trial(\"episode_reward_mean\", mode=\"max\")\n",
    "#)[0][0][:-30]\n",
    "\n",
    "episodes_data = solara.utils.rllib.run_episodes_from_checkpoints(agent=agent_instance, \n",
    "                                                                 check_save_path=checkpoint_path)\n",
    "initial_visibility = ['load','pv_gen','energy_cont','net_load',\n",
    "                      'charging_power','cost','price_threshold',\n",
    "                      'actions']\n",
    "\n",
    "solara.plot.widgets.InteractiveEpisodes(episodes_data, initial_visibility=initial_visibility)"
   ]
  },
  {
   "cell_type": "code",
   "execution_count": null,
   "id": "522b8240-3512-4437-8592-07f26a402ad2",
   "metadata": {},
   "outputs": [],
   "source": []
  }
 ],
 "metadata": {
  "kernelspec": {
   "display_name": "Python 3",
   "language": "python",
   "name": "python3"
  },
  "language_info": {
   "codemirror_mode": {
    "name": "ipython",
    "version": 3
   },
   "file_extension": ".py",
   "mimetype": "text/x-python",
   "name": "python",
   "nbconvert_exporter": "python",
   "pygments_lexer": "ipython3",
   "version": "3.7.10"
  }
 },
 "nbformat": 4,
 "nbformat_minor": 5
}
