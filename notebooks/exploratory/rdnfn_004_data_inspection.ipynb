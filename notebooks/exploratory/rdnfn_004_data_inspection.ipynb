{
 "cells": [
  {
   "cell_type": "code",
   "execution_count": 1,
   "id": "3ef539cb-d0f0-4ca5-8a71-8de4fd49eee0",
   "metadata": {},
   "outputs": [
    {
     "data": {
      "text/plain": [
       "array([0.00000e+00, 5.70300e-03, 6.02740e-02, 2.33136e-01, 3.78429e-01,\n",
       "       6.98583e-01, 7.67529e-01, 7.76072e-01, 4.50403e-01, 2.90975e-01,\n",
       "       4.32786e-01, 2.48055e-01, 9.42410e-02, 1.16020e-02, 0.00000e+00,\n",
       "       3.60000e-05, 0.00000e+00, 0.00000e+00, 0.00000e+00, 0.00000e+00,\n",
       "       0.00000e+00, 0.00000e+00, 0.00000e+00, 0.00000e+00])"
      ]
     },
     "execution_count": 1,
     "metadata": {},
     "output_type": "execute_result"
    }
   ],
   "source": [
    "import numpy as np\n",
    "from solara.constants import PROJECT_PATH\n",
    "\n",
    "# OBSERVATION 1\n",
    "# In some of the PV trace data the sun appears to start shining at 2am?\n",
    "# E.g. day starting at row 32064 (+1) in PV_5796.txt\n",
    "pv_data_path = PROJECT_PATH + \"/data/solar_trace_data/pv_5796.txt\"\n",
    "pv_data = np.loadtxt(pv_data_path, delimiter=\",\")\n",
    "pv_data[32064:32064+24]"
   ]
  },
  {
   "cell_type": "code",
   "execution_count": 2,
   "id": "cee555da-29ec-46ae-942c-aaa795fa7758",
   "metadata": {},
   "outputs": [
    {
     "data": {
      "text/plain": [
       "14"
      ]
     },
     "execution_count": 2,
     "metadata": {},
     "output_type": "execute_result"
    }
   ],
   "source": [
    "# OBSERVATION 2\n",
    "# Note data len is NOT a multiple of 24. Why?\n",
    "len(pv_data) - 24 * 1460"
   ]
  },
  {
   "cell_type": "code",
   "execution_count": null,
   "id": "bedd16e7-a2ac-4d6b-be53-17cffa9770c2",
   "metadata": {},
   "outputs": [],
   "source": []
  }
 ],
 "metadata": {
  "kernelspec": {
   "display_name": "Python 3",
   "language": "python",
   "name": "python3"
  },
  "language_info": {
   "codemirror_mode": {
    "name": "ipython",
    "version": 3
   },
   "file_extension": ".py",
   "mimetype": "text/x-python",
   "name": "python",
   "nbconvert_exporter": "python",
   "pygments_lexer": "ipython3",
   "version": "3.8.8"
  }
 },
 "nbformat": 4,
 "nbformat_minor": 5
}
