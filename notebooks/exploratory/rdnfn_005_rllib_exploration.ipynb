{
 "cells": [
  {
   "cell_type": "markdown",
   "id": "c9491a9d-0dc2-4dda-b53c-487cbb2422fc",
   "metadata": {},
   "source": [
    "# Exploring RLlib for solar agent problems"
   ]
  },
  {
   "cell_type": "markdown",
   "id": "396c8785-ec66-4157-b706-710e65318c18",
   "metadata": {},
   "source": [
    "This notebook explores the use of RLlib with the solar agent environment. It is partly based on the [cartpole tutorial notebook by anyscale](https://github.com/anyscale/academy/blob/9317775c393aff06cff06ae58c88f85ce201940d/ray-rllib/explore-rllib/01-Application-Cart-Pole.ipynb)."
   ]
  },
  {
   "cell_type": "markdown",
   "id": "3bfc5bd9-8dc2-45e1-9583-49e6abcfe899",
   "metadata": {},
   "source": [
    "## 0. Setup"
   ]
  },
  {
   "cell_type": "code",
   "execution_count": null,
   "id": "3dea3c62-ca1a-46af-b64f-224758e6cfa0",
   "metadata": {},
   "outputs": [],
   "source": [
    "%load_ext autoreload\n",
    "%autoreload 2\n",
    "%config IPCompleter.greedy=True"
   ]
  },
  {
   "cell_type": "code",
   "execution_count": null,
   "id": "8ff76ce9-5b08-46fc-acfe-e9cb2c797fae",
   "metadata": {},
   "outputs": [],
   "source": [
    "import ray\n",
    "import ray.tune\n",
    "import ray.rllib\n",
    "import json\n",
    "import glob\n",
    "import os\n",
    "import pandas as pd\n",
    "import numpy as np\n",
    "import ipywidgets as widgets\n",
    "import matplotlib.pyplot as plt\n",
    "\n",
    "from solara.constants import PROJECT_PATH\n",
    "import solara.envs.components.solar\n",
    "import solara.envs.components.load\n",
    "import solara.envs.components.grid\n",
    "import solara.envs.battery_control\n",
    "import solara.envs.components.battery"
   ]
  },
  {
   "cell_type": "code",
   "execution_count": null,
   "id": "cb969bd8-6cfd-4e35-839e-a0d553bc8541",
   "metadata": {},
   "outputs": [],
   "source": [
    "## Initialising ray (starts background process for distributed computing)\n",
    "ray.shutdown()\n",
    "ray.init()"
   ]
  },
  {
   "cell_type": "markdown",
   "id": "d4a73761-1929-40e0-b053-6cb819e47499",
   "metadata": {},
   "source": [
    "## 1. Setting up the solar agent environment"
   ]
  },
  {
   "cell_type": "code",
   "execution_count": null,
   "id": "3871988f-e93f-4d61-83f4-a59c04a84b54",
   "metadata": {},
   "outputs": [],
   "source": [
    "# To make the environment usable with RLlib\n",
    "# we wrap its creation in functon\n",
    "def battery_env_creator(env_config):\n",
    "    pv_data_path = PROJECT_PATH + \"/data/solar_trace_data/PV_5796.txt\"\n",
    "    load_data_path = PROJECT_PATH + \"/data/solar_trace_data/load_5796.txt\"\n",
    "\n",
    "    # Setting up components of environment\n",
    "    battery_model = solara.envs.components.battery.LithiumIonBattery(20, \"NMC\", 1/10.0)\n",
    "    pv_model = solara.envs.components.solar.DataPV(data_path=pv_data_path)\n",
    "    load_model = solara.envs.components.load.DataLoad(data_path=load_data_path)\n",
    "    grid_model = solara.envs.components.grid.PeakGrid()\n",
    "\n",
    "    # Fixing load and PV trace to single sample\n",
    "    episode_num = 12\n",
    "    load_model.fix_start(episode_num)\n",
    "    pv_model.fix_start(episode_num)\n",
    "\n",
    "    env = solara.envs.battery_control.BatteryControlEnv(\n",
    "        battery=battery_model,\n",
    "        pv_system = pv_model,\n",
    "        grid = grid_model,\n",
    "        load = load_model,\n",
    "    )\n",
    "    \n",
    "    return env\n",
    "\n",
    "ray.tune.registry.register_env(\"battery_control\", battery_env_creator)"
   ]
  },
  {
   "cell_type": "markdown",
   "id": "fb0c78ba-c2d6-472c-acb1-d3a582551598",
   "metadata": {},
   "source": [
    "## 2. Setting up the RLlib agent"
   ]
  },
  {
   "cell_type": "code",
   "execution_count": null,
   "id": "08753fdc-daa8-4172-8120-d396e1a87359",
   "metadata": {},
   "outputs": [],
   "source": [
    "save_path = \"./tmp/ppo/battery-control\"\n",
    "check_save_path = save_path + \"/checkpoints\"\n",
    "out_save_path = save_path + \"/outputs\"\n",
    "\n",
    "trainer = ray.rllib.agents.ppo.PPOTrainer(env=\"battery_control\", config={\n",
    "    \"framework\": \"torch\",\n",
    "    \"env_config\": {},\n",
    "    \"output\": out_save_path,\n",
    "    \"output_compress_columns\": [],\n",
    "    \"gamma\": 0.9999999, # we set the discount factor very high\n",
    "})"
   ]
  },
  {
   "cell_type": "markdown",
   "id": "4852a208-31eb-4520-880e-c7d7f885151e",
   "metadata": {},
   "source": [
    "## 3. Training agent on environment"
   ]
  },
  {
   "cell_type": "code",
   "execution_count": null,
   "id": "ff419414-7d16-4873-9c6b-a0792a9d2a15",
   "metadata": {},
   "outputs": [],
   "source": [
    "num_iterations = 10\n",
    "iteration_string = \"Training iteration: {}, Min reward: {:.3f}, Mean reward: {:.3f}, Max reward: {:.3f}.\"\n",
    "\n",
    "for i in range(num_iterations):\n",
    "    iteration_out = trainer.train()\n",
    "    print(iteration_string.format(i,\n",
    "                                  iteration_out['episode_reward_min'], \n",
    "                                  iteration_out['episode_reward_mean'],\n",
    "                                  iteration_out['episode_reward_max']))\n",
    "\n",
    "    file_name = trainer.save(check_save_path)\n",
    "\n",
    "print(\"Training completed\")"
   ]
  },
  {
   "cell_type": "markdown",
   "id": "31ff3630-f9cc-442f-9783-1e040e08ce85",
   "metadata": {},
   "source": [
    "## 4. Visualising training"
   ]
  },
  {
   "cell_type": "code",
   "execution_count": null,
   "id": "517ec9ef-01bb-4aa5-840f-68510e7e9aae",
   "metadata": {},
   "outputs": [],
   "source": [
    "## Loading latest output json file\n",
    "\n",
    "# Getting latest file path\n",
    "list_of_out_files = glob.glob(out_save_path + \"/*.json\")\n",
    "latest_out_file = max(list_of_out_files, key=os.path.getctime)\n",
    "\n",
    "episode_trace_data = {\"obs\": [],\"actions\": [], }\n",
    "\n",
    "# Note that each line is separate Json data.\n",
    "# If the entire file is loaded at once as a Json, it is broken.\n",
    "# Therefore each line needs to be loaded separately.\n",
    "with open(latest_out_file) as file:\n",
    "    for line in file:\n",
    "        line_data = json.loads(line)\n",
    "        for key in episode_trace_data.keys():\n",
    "            episode_trace_data[key] += line_data[key]"
   ]
  },
  {
   "cell_type": "code",
   "execution_count": null,
   "id": "80499ca0-e575-43da-b330-f687e0e2f4bc",
   "metadata": {},
   "outputs": [],
   "source": [
    "## Creating plot\n",
    "@widgets.interact(ep_num=(1,len(episode_trace_data[\"obs\"])//24))\n",
    "def plot_episode(ep_num, save_path=\"episode_plot.png\"):\n",
    "\n",
    "    df = pd.DataFrame(data=episode_trace_data[\"obs\"][24*ep_num:24*(ep_num+1)])\n",
    "    df.columns = [\"load\",\n",
    "                \"pv_generation\",\n",
    "                \"battery__energy_content\",\n",
    "                \"time_step\",\n",
    "                \"sum_load\",\n",
    "                \"sum_pv_gen\",]\n",
    "\n",
    "    ep_actions = episode_trace_data[\"actions\"][24*ep_num:24*(ep_num+1)]\n",
    "    df[\"actions\"] = np.array(ep_actions)\n",
    "\n",
    "    y_names = [\"load\",\n",
    "                \"pv_generation\",\n",
    "                \"battery__energy_content\",]\n",
    "                #\"sum_load\",\n",
    "                #\"sum_pv_gen\",]\n",
    "            \n",
    "    fig, axs = plt.subplots(2, 1, figsize=(8, 6), dpi=100)\n",
    "    fig.suptitle('Episode {}'.format(ep_num))\n",
    "\n",
    "    df.plot(x=\"time_step\", y=y_names, ylim = [-0.1,5], color=[\"blue\",\"green\",\"black\"], ax=axs[0])\n",
    "    df.plot(x=\"time_step\", y=[\"actions\"],ylim = [-2,2], color='red', ax=axs[1])\n",
    "    \n",
    "    plt.savefig(save_path)"
   ]
  },
  {
   "cell_type": "code",
   "execution_count": null,
   "id": "e23c01bf-f294-480f-b019-b0792bccfafd",
   "metadata": {},
   "outputs": [],
   "source": []
  }
 ],
 "metadata": {
  "kernelspec": {
   "display_name": "Python 3",
   "language": "python",
   "name": "python3"
  },
  "language_info": {
   "codemirror_mode": {
    "name": "ipython",
    "version": 3
   },
   "file_extension": ".py",
   "mimetype": "text/x-python",
   "name": "python",
   "nbconvert_exporter": "python",
   "pygments_lexer": "ipython3",
   "version": "3.7.10"
  }
 },
 "nbformat": 4,
 "nbformat_minor": 5
}
