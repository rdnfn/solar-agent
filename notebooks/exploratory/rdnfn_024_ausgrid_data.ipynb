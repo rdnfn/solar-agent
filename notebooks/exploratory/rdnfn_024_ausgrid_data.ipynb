{
 "cells": [
  {
   "cell_type": "markdown",
   "id": "8d5a9e68-2a60-4cb6-8ab7-fabf63971e34",
   "metadata": {},
   "source": [
    "# Parsing Ausgrid Data"
   ]
  },
  {
   "cell_type": "code",
   "execution_count": null,
   "id": "8fe531fe-40c2-45dc-81f7-943de609ef41",
   "metadata": {},
   "outputs": [],
   "source": [
    "import pandas as pd\n",
    "from tqdm.notebook import trange, tqdm\n",
    "from solara.constants import PROJECT_PATH\n",
    "\n",
    "data = pd.read_csv(PROJECT_PATH + \"/data/ausgrid/2012_2013_solar_home_electricity_data_v2.csv\", skiprows=1)\n",
    "data"
   ]
  },
  {
   "cell_type": "code",
   "execution_count": null,
   "id": "a992ae7d-62dd-4635-a02c-99829e7dae9f",
   "metadata": {},
   "outputs": [],
   "source": [
    "def get_trace(data, trace_type=\"CL\", customer_num=1):\n",
    "    \n",
    "    # Selecting rows for customer and consumption category\n",
    "    subdata = data[(data[\"Customer\"] == customer_num) \n",
    "                   & (data[\"Consumption Category\"] == trace_type)]\n",
    "    \n",
    "    # Selecting trace data\n",
    "    trace = subdata.loc[:, \"0:30\":\"0:00\"].values.flatten()\n",
    "    \n",
    "    # Make hourly instead of half hourly by adding value pairs \n",
    "    # happening in same hour\n",
    "    trace = trace.reshape((len(trace)//2,2)).sum(axis=1)\n",
    "    \n",
    "    return trace\n",
    "\n",
    "CUSTOMER_NUM = 2\n",
    "\n",
    "controlled_load = get_trace(data, trace_type=\"CL\", customer_num=CUSTOMER_NUM)\n",
    "general_consumption = get_trace(data, trace_type=\"GC\", customer_num=CUSTOMER_NUM)\n",
    "total_load = controlled_load + general_consumption\n",
    "\n",
    "solar_input = get_trace(data, trace_type=\"GG\", customer_num=CUSTOMER_NUM)"
   ]
  },
  {
   "cell_type": "code",
   "execution_count": null,
   "id": "0c9b573a-1fda-4948-bd5c-abd283ea08c9",
   "metadata": {},
   "outputs": [],
   "source": [
    "# Plotting example data\n",
    "\n",
    "import matplotlib.pyplot as plt\n",
    "import numpy as np\n",
    "\n",
    "start_day = 200 #np.random.randint(len(total_load)//24) #200\n",
    "print(\"Start day: \", start_day)\n",
    "\n",
    "plt.plot(total_load[start_day*24:start_day*24+25], label=\"load\")\n",
    "plt.plot(general_consumption[start_day*24:start_day*24+25], label=\"gen_consumption\")\n",
    "plt.plot(solar_input[start_day*24:start_day*24+25], label=\"solar\")\n",
    "plt.legend()\n",
    "plt.show()"
   ]
  },
  {
   "cell_type": "code",
   "execution_count": null,
   "id": "ff1e4ab9-f79f-4452-8ef9-cec15620033b",
   "metadata": {},
   "outputs": [],
   "source": [
    "# Saving data\n",
    "file_name = PROJECT_PATH + \"/data/ausgrid/processed/house\" + str(CUSTOMER_NUM) + \"_{}.txt\"\n",
    "np.savetxt(file_name.format(\"combined_load\"), total_load)\n",
    "np.savetxt(file_name.format(\"solar_gen\"), solar_input)"
   ]
  },
  {
   "cell_type": "code",
   "execution_count": null,
   "id": "bdea932f-1d3c-46ba-ab3f-fe7542080143",
   "metadata": {},
   "outputs": [],
   "source": []
  }
 ],
 "metadata": {
  "kernelspec": {
   "display_name": "Python 3 (ipykernel)",
   "language": "python",
   "name": "python3"
  },
  "language_info": {
   "codemirror_mode": {
    "name": "ipython",
    "version": 3
   },
   "file_extension": ".py",
   "mimetype": "text/x-python",
   "name": "python",
   "nbconvert_exporter": "python",
   "pygments_lexer": "ipython3",
   "version": "3.7.10"
  }
 },
 "nbformat": 4,
 "nbformat_minor": 5
}
