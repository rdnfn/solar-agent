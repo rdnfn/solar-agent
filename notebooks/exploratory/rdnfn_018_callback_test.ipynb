{
 "cells": [
  {
   "cell_type": "markdown",
   "id": "90cd09ba-0caf-460c-8dc2-112ef6198cac",
   "metadata": {},
   "source": [
    "# Experiment Collection #01\n",
    "\n",
    "This notebook contains experiments regarding the use of a penalty term."
   ]
  },
  {
   "cell_type": "markdown",
   "id": "112286d9-6b0d-45b1-8d69-e516c290c04b",
   "metadata": {},
   "source": [
    "## 1. Basic Setup"
   ]
  },
  {
   "cell_type": "code",
   "execution_count": 1,
   "id": "f5771fe1-6231-46b2-b4ce-98f9ce02e890",
   "metadata": {},
   "outputs": [],
   "source": [
    "# Jupyter setup\n",
    "%load_ext autoreload\n",
    "%autoreload 2\n",
    "%config IPCompleter.greedy=True"
   ]
  },
  {
   "cell_type": "code",
   "execution_count": 2,
   "id": "7e24471a-fa05-470f-9b50-b70c66c58953",
   "metadata": {},
   "outputs": [],
   "source": [
    "import ray\n",
    "ray.shutdown()"
   ]
  },
  {
   "cell_type": "code",
   "execution_count": 3,
   "id": "cd77e9a3-1690-45ff-b5bf-8eef57339043",
   "metadata": {},
   "outputs": [],
   "source": [
    "import ray\n",
    "import ray.rllib\n",
    "import ray.tune \n",
    "import solara.envs.creator\n",
    "\n",
    "## Initialising ray (starts background process for distributed computing)\n",
    "ray.shutdown()\n",
    "ray.init(logging_level=\"WARNING\", object_store_memory= 25 * 10**9)\n",
    "\n",
    "# Adding environment creator function to ray\n",
    "ray.tune.registry.register_env(\"battery_control\", solara.envs.creator.create_env)"
   ]
  },
  {
   "cell_type": "markdown",
   "id": "41dbd3da-5d40-4fe2-b7f2-d018a85a4ae1",
   "metadata": {},
   "source": [
    "## 2. Experiment Definition"
   ]
  },
  {
   "cell_type": "code",
   "execution_count": 4,
   "id": "83c6cdce-2d29-4fc9-94ac-d444dba8c3d4",
   "metadata": {},
   "outputs": [],
   "source": [
    "from solara.constants import PROJECT_PATH\n",
    "\n",
    "# RL environment configuration\n",
    "ENV_CONFIG = {\n",
    "    'general': {\n",
    "        'type': 'battery_control.BatteryControlEnv',\n",
    "        'infeasible_control_penalty': ray.tune.grid_search([False, True]),\n",
    "        'grid_charging': ray.tune.grid_search([True, False]),\n",
    "        'logging_level': \"RAY\", # if using RLlib, set to 'RAY'\n",
    "    },\n",
    "    'components': {\n",
    "        'battery': {\n",
    "            'type': 'LithiumIonBattery',\n",
    "            'size': 10,\n",
    "            'chemistry': 'NMC',\n",
    "            'time_step_len': 1,\n",
    "        },\n",
    "        'solar': {\n",
    "            'type': 'DataPV',\n",
    "            'data_path': PROJECT_PATH + \"/data/solar_trace_data/PV_5796.txt\",\n",
    "            'fixed_sample_num': 12,\n",
    "        },\n",
    "        'load': {\n",
    "            'type': 'DataLoad',\n",
    "            'data_path': PROJECT_PATH + \"/data/solar_trace_data/load_5796.txt\",\n",
    "            'fixed_sample_num': 12,\n",
    "        },\n",
    "        'grid': {\n",
    "            'type': 'PeakGrid',\n",
    "            'peak_threshold': 1.0,\n",
    "        },\n",
    "    },\n",
    "}\n",
    "\n",
    "# RL agent configuration\n",
    "AGENT_CONFIG = {\n",
    "    \"framework\": \"torch\",\n",
    "    #\"num_workers\": 9,\n",
    "    #\"num_gpus\": 1,\n",
    "    \"env\": \"battery_control\",\n",
    "    \"env_config\": ENV_CONFIG,\n",
    "    \"gamma\": 0.9999999,\n",
    "    \"log_level\": \"WARNING\",\n",
    "    \"lr\": 5e-5,\n",
    "    \"model\": {\n",
    "        \"fcnet_hiddens\": [256, 256, 256, 256],\n",
    "        \"fcnet_activation\": \"relu\",\n",
    "        \"post_fcnet_activation\": \"tanh\",\n",
    "    },\n",
    "}\n",
    "\n",
    "# Full experiment configuration including RL algorithm type\n",
    "EXPERIMENT_CONFIG = {\n",
    "    \"run_or_experiment\": \"PPO\",\n",
    "    \"config\": AGENT_CONFIG,\n",
    "    \"stop\": {\"training_iteration\": 2},\n",
    "    \"local_dir\": \"./tmp/tune/\",\n",
    "    \"log_to_file\": True,\n",
    "    \"checkpoint_freq\": 1,\n",
    "}"
   ]
  },
  {
   "cell_type": "code",
   "execution_count": 5,
   "id": "0a29c1e7-194b-4378-97c6-674a8da2afa3",
   "metadata": {},
   "outputs": [],
   "source": [
    "# Parallelisation Setup\n",
    "if False:\n",
    "    num_workers = 4\n",
    "    gpu_count = 1\n",
    "    reserved_capacity = 0.01 # Driver GPU\n",
    "    num_gpus_per_worker = (gpu_count - reserved_capacity) / num_workers\n",
    "\n",
    "\n",
    "    AGENT_CONFIG[\"num_workers\"] = num_workers\n",
    "    AGENT_CONFIG[\"num_gpus\"] = num_gpus\n",
    "    AGENT_CONFIG[\"num_envs_per_worker\"]= 8\n",
    "    \n",
    "\n",
    "#AGENT_CONFIG[\"num_gpus\"] = 1\n",
    "#AGENT_CONFIG[\"num_envs_per_worker\"]= 8\n",
    "AGENT_CONFIG[\"num_workers\"] = 10\n",
    "AGENT_CONFIG[\"num_gpus\"] = 1\n",
    "#AGENT_CONFIG[\"remote_worker_envs\"]= True"
   ]
  },
  {
   "cell_type": "code",
   "execution_count": 6,
   "id": "b631ad98-942f-4784-b666-639d47da4f18",
   "metadata": {},
   "outputs": [],
   "source": [
    "from ray.rllib.evaluation import RolloutWorker\n",
    "\n",
    "from ray.rllib.env import BaseEnv\n",
    "from ray.rllib.policy import Policy\n",
    "from ray.rllib.policy.sample_batch import SampleBatch\n",
    "from ray.rllib.evaluation import MultiAgentEpisode\n",
    "from ray.rllib.utils.annotations import PublicAPI\n",
    "from ray.rllib.utils.deprecation import deprecation_warning\n",
    "from ray.rllib.utils.typing import AgentID, PolicyID\n",
    "\n",
    "from typing import Dict, Optional, TYPE_CHECKING\n",
    "\n",
    "import numpy as np\n",
    "\n",
    "\n",
    "class MyCallbacks(ray.rllib.agents.callbacks.DefaultCallbacks):\n",
    "    \"\"\"Callback to add additional metrics over the training process from step infos.\"\"\"\n",
    "    \n",
    "    info_keys = [\"cost\", \"power_diff\", \"battery_cont\"]\n",
    "    \n",
    "    def on_episode_start(self, *, worker: RolloutWorker, base_env: BaseEnv,\n",
    "                         policies: Dict[str, Policy],\n",
    "                         episode: MultiAgentEpisode, env_index: int, **kwargs):\n",
    "        \n",
    "        episode.user_data[\"infos\"] = []\n",
    "\n",
    "    def on_episode_step(self, *, worker: RolloutWorker, base_env: BaseEnv,\n",
    "                        episode: MultiAgentEpisode, env_index: int, **kwargs):\n",
    "        \n",
    "        episode.user_data[\"infos\"].append(episode.last_info_for())\n",
    "\n",
    "    def on_episode_end(self, *, worker: RolloutWorker, base_env: BaseEnv,\n",
    "                       policies: Dict[str, Policy], episode: MultiAgentEpisode,\n",
    "                       env_index: int, **kwargs):\n",
    "        \n",
    "        for key in self.info_keys:\n",
    "            if key in episode.user_data[\"infos\"][0].keys():\n",
    "                key_data = [info[key] for info in episode.user_data[\"infos\"]]\n",
    "                episode.custom_metrics[key] = sum(key_data)\n",
    "        \n",
    "AGENT_CONFIG[\"callbacks\"] = MyCallbacks\n",
    "#AGENT_CONFIG.pop(\"callbacks\")"
   ]
  },
  {
   "cell_type": "code",
   "execution_count": null,
   "id": "fa610149-a6e9-45c7-a4d9-0e422893d046",
   "metadata": {},
   "outputs": [
    {
     "data": {
      "text/html": [
       "== Status ==<br>Memory usage on this node: 7.0/47.1 GiB<br>Using FIFO scheduling algorithm.<br>Resources requested: 11.0/12 CPUs, 1.0/1 GPUs, 0.0/17.66 GiB heap, 0.0/23.28 GiB objects (0.0/1.0 accelerator_type:RTX)<br>Result logdir: /home/rdnfn/main/repos/github/solar-agent/notebooks/exploratory/tmp/tune/PPO<br>Number of trials: 4/4 (1 PENDING, 1 RUNNING, 2 TERMINATED)<br><table>\n",
       "<thead>\n",
       "<tr><th>Trial name                     </th><th>status    </th><th>loc                  </th><th>env_config/general/grid_charging  </th><th>env_config/general/infeasible_control_penalty  </th><th style=\"text-align: right;\">  iter</th><th style=\"text-align: right;\">  total time (s)</th><th style=\"text-align: right;\">  ts</th><th style=\"text-align: right;\">    reward</th><th style=\"text-align: right;\">  custom_metrics/cost_mean</th><th style=\"text-align: right;\">  custom_metrics/power_diff_mean</th></tr>\n",
       "</thead>\n",
       "<tbody>\n",
       "<tr><td>PPO_battery_control_90ecf_00002</td><td>RUNNING   </td><td>192.168.34.159:121627</td><td>True                              </td><td>True                                           </td><td style=\"text-align: right;\">     2</td><td style=\"text-align: right;\">         20.5995</td><td style=\"text-align: right;\">8000</td><td style=\"text-align: right;\">-103.68   </td><td style=\"text-align: right;\">                  37.9455 </td><td style=\"text-align: right;\">                         65.7343</td></tr>\n",
       "<tr><td>PPO_battery_control_90ecf_00003</td><td>PENDING   </td><td>                     </td><td>False                             </td><td>True                                           </td><td style=\"text-align: right;\">      </td><td style=\"text-align: right;\">                </td><td style=\"text-align: right;\">    </td><td style=\"text-align: right;\">          </td><td style=\"text-align: right;\">                          </td><td style=\"text-align: right;\">                                </td></tr>\n",
       "<tr><td>PPO_battery_control_90ecf_00000</td><td>TERMINATED</td><td>                     </td><td>True                              </td><td>False                                          </td><td style=\"text-align: right;\">     2</td><td style=\"text-align: right;\">         19.6626</td><td style=\"text-align: right;\">8000</td><td style=\"text-align: right;\"> -28.6974 </td><td style=\"text-align: right;\">                  28.6974 </td><td style=\"text-align: right;\">                                </td></tr>\n",
       "<tr><td>PPO_battery_control_90ecf_00001</td><td>TERMINATED</td><td>                     </td><td>False                             </td><td>False                                          </td><td style=\"text-align: right;\">     2</td><td style=\"text-align: right;\">         20.3672</td><td style=\"text-align: right;\">8000</td><td style=\"text-align: right;\">  -1.25425</td><td style=\"text-align: right;\">                   1.25425</td><td style=\"text-align: right;\">                                </td></tr>\n",
       "</tbody>\n",
       "</table><br><br>"
      ],
      "text/plain": [
       "<IPython.core.display.HTML object>"
      ]
     },
     "metadata": {},
     "output_type": "display_data"
    }
   ],
   "source": [
    "reporter = ray.tune.JupyterNotebookReporter(overwrite=True)\n",
    "reporter.add_metric_column(\"custom_metrics/cost_mean\")\n",
    "reporter.add_metric_column(\"custom_metrics/power_diff_mean\")\n",
    "\n",
    "analysis = ray.tune.run(\n",
    "    progress_reporter=reporter,\n",
    "    **EXPERIMENT_CONFIG,\n",
    "#resume=True\n",
    ")"
   ]
  },
  {
   "cell_type": "code",
   "execution_count": null,
   "id": "3cf6cdd3-c625-448a-a05e-9aeac472afbd",
   "metadata": {},
   "outputs": [],
   "source": [
    "ray.tune.JupyterNotebookReporter(overwrite=True).DEFAULT_COLUMNS"
   ]
  },
  {
   "cell_type": "code",
   "execution_count": null,
   "id": "b355f03d-b560-4f5e-b833-fa2a88a41b7b",
   "metadata": {},
   "outputs": [],
   "source": [
    "ray.rllibJupyterNotebookReporterainer"
   ]
  },
  {
   "cell_type": "code",
   "execution_count": null,
   "id": "2cc9fbcd-9629-4515-a6e0-51ca692d0a4a",
   "metadata": {},
   "outputs": [],
   "source": [
    "analysis.results"
   ]
  },
  {
   "cell_type": "code",
   "execution_count": null,
   "id": "0eafd9d6-78e6-48e6-8880-e300bca1c243",
   "metadata": {},
   "outputs": [],
   "source": [
    "ray.rllib.agents.ppo.PPOTrainer(config=AGENT_CONFIG)"
   ]
  },
  {
   "cell_type": "code",
   "execution_count": null,
   "id": "045c1917-896d-41aa-a65a-80718fc678ab",
   "metadata": {},
   "outputs": [],
   "source": []
  }
 ],
 "metadata": {
  "kernelspec": {
   "display_name": "Python 3 (ipykernel)",
   "language": "python",
   "name": "python3"
  },
  "language_info": {
   "codemirror_mode": {
    "name": "ipython",
    "version": 3
   },
   "file_extension": ".py",
   "mimetype": "text/x-python",
   "name": "python",
   "nbconvert_exporter": "python",
   "pygments_lexer": "ipython3",
   "version": "3.7.10"
  }
 },
 "nbformat": 4,
 "nbformat_minor": 5
}
