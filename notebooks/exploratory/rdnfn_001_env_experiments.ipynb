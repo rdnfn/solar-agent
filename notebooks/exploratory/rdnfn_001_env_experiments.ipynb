{
 "cells": [
  {
   "cell_type": "code",
   "execution_count": 1,
   "id": "6758a3b0-6786-4d54-90fa-fba900c0db20",
   "metadata": {},
   "outputs": [],
   "source": [
    "# loads the autoreload package into ipython kernel\n",
    "%load_ext autoreload\n",
    "%autoreload 2\n",
    "# sets autoreload mode to automatically reload modules when they change\n",
    "%config IPCompleter.greedy=True  # enables tab completion"
   ]
  },
  {
   "cell_type": "code",
   "execution_count": null,
   "id": "3c57d90d-654f-4487-9f0a-6561bd7490e0",
   "metadata": {},
   "outputs": [],
   "source": []
  }
 ],
 "metadata": {
  "kernelspec": {
   "display_name": "Python 3",
   "language": "python",
   "name": "python3"
  },
  "language_info": {
   "codemirror_mode": {
    "name": "ipython",
    "version": 3
   },
   "file_extension": ".py",
   "mimetype": "text/x-python",
   "name": "python",
   "nbconvert_exporter": "python",
   "pygments_lexer": "ipython3",
   "version": "3.8.8"
  }
 },
 "nbformat": 4,
 "nbformat_minor": 5
}
