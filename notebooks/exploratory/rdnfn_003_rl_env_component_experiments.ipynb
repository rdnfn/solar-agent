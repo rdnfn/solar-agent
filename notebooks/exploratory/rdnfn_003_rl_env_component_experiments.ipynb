{
 "cells": [
  {
   "cell_type": "code",
   "execution_count": null,
   "id": "1e9254d2-7595-4f93-89e2-16e7f7108dd1",
   "metadata": {},
   "outputs": [],
   "source": [
    "%load_ext autoreload\n",
    "%autoreload 2\n",
    "%config IPCompleter.greedy=True"
   ]
  },
  {
   "cell_type": "code",
   "execution_count": null,
   "id": "9cbddf50-8b33-4a50-8c5a-761ac8366717",
   "metadata": {},
   "outputs": [],
   "source": [
    "import cvxpy as cp\n",
    "import numpy as np"
   ]
  },
  {
   "cell_type": "code",
   "execution_count": null,
   "id": "8f0425e2-0e9d-4791-8cfc-450903d85d8c",
   "metadata": {},
   "outputs": [],
   "source": [
    "from solara.constants import PROJECT_PATH\n",
    "import solara.environment.photovoltaics\n",
    "import solara.environment.loads\n",
    "import solara.environment.grids\n",
    "pv_data_path = PROJECT_PATH + \"/data/solar_trace_data/PV_5796.txt\"\n",
    "load_data_path = PROJECT_PATH + \"/data/solar_trace_data/load_5796.txt\"\n",
    "\n",
    "pv_model = solara.environment.photovoltaics.DataPV(data_path=pv_data_path)\n",
    "load_model = solara.environment.loads.DataLoad(data_path=load_data_path)\n",
    "grid_model = solara.environment.grids.PeakGrid()\n",
    "\n",
    "pv_model.fix_start(1)\n",
    "load_model.fix_start(1)"
   ]
  },
  {
   "cell_type": "code",
   "execution_count": null,
   "id": "9f44ca98-a37e-40c0-8973-3661ddf5d62e",
   "metadata": {},
   "outputs": [],
   "source": [
    "start = np.random.randint(len(pv_model.data) // 24) * 24\n",
    "\n",
    "pv_model.reset()\n",
    "load_model.reset()\n",
    "print(\"Starting point: \", pv_model.start)\n",
    "for i in range(24):\n",
    "    load = load_model.get_next_load()\n",
    "    pv_gen = pv_model.get_next_generation()\n",
    "    net_load = np.maximum(0,load-pv_gen)\n",
    "    price = grid_model.draw_power(net_load)\n",
    "    print(\"Load: {:.3f}, PV generation: {:.3f}, Net load: {:.3f}, Price: {:.3f}\".format(load, pv_gen, net_load, price))"
   ]
  },
  {
   "cell_type": "code",
   "execution_count": null,
   "id": "66563ae5-d757-418d-93f8-dd3e5dc81bd4",
   "metadata": {},
   "outputs": [],
   "source": [
    "import solara.environment.battery_control\n",
    "import solara.environment.batteries\n",
    "\n",
    "battery_model = solara.environment.batteries.LithiumIonBattery(20, \"NMC\", 1/10.0)\n",
    "pv_model = solara.environment.photovoltaics.DataPV(data_path=pv_data_path)\n",
    "load_model = solara.environment.loads.DataLoad(data_path=load_data_path)\n",
    "grid_model = solara.environment.grids.PeakGrid()\n",
    "\n",
    "start = 12\n",
    "\n",
    "pv_model.fix_start(start=start)\n",
    "load_model.fix_start(start=start)\n",
    "\n",
    "env = solara.environment.battery_control.BatteryControlEnv(battery=battery_model,\n",
    "        pv_system = pv_model,\n",
    "        grid = grid_model,\n",
    "        load = load_model,)"
   ]
  },
  {
   "cell_type": "code",
   "execution_count": null,
   "id": "f9037b88-0d5a-4ab4-98a0-8c8c144e1306",
   "metadata": {},
   "outputs": [],
   "source": [
    "done = False\n",
    "env.reset()\n",
    "obs_list = []\n",
    "for i in range(26):\n",
    "    if not done:\n",
    "        obs, _, done, _ = env.step(np.array([0]))\n",
    "        obs_list.append(obs)\n",
    "    else:\n",
    "        print(\"Episode done.\")"
   ]
  },
  {
   "cell_type": "code",
   "execution_count": null,
   "id": "ea5ef46c-2ce6-4208-aee6-13a77b02255d",
   "metadata": {},
   "outputs": [],
   "source": [
    "import pandas as pd\n",
    "\n",
    "df = pd.DataFrame(data=obs_list)\n",
    "df.columns = [\"load\",\n",
    "            \"pv_generation\",\n",
    "            \"battery__energy_content\",\n",
    "            \"time_step\",\n",
    "            \"sum_load\",\n",
    "            \"sum_pv_gen\",]\n",
    "\n",
    "y_names = [\"load\",\n",
    "            \"pv_generation\",\n",
    "            \"battery__energy_content\",]\n",
    "            #\"sum_load\",\n",
    "            #\"sum_pv_gen\",]\n",
    "        \n",
    "df.plot(x=\"time_step\", y=y_names, secondary_y=True)"
   ]
  },
  {
   "cell_type": "code",
   "execution_count": null,
   "id": "69f44539-a362-4e28-aec5-af5111815534",
   "metadata": {},
   "outputs": [],
   "source": []
  }
 ],
 "metadata": {
  "kernelspec": {
   "display_name": "Python 3",
   "language": "python",
   "name": "python3"
  },
  "language_info": {
   "codemirror_mode": {
    "name": "ipython",
    "version": 3
   },
   "file_extension": ".py",
   "mimetype": "text/x-python",
   "name": "python",
   "nbconvert_exporter": "python",
   "pygments_lexer": "ipython3",
   "version": "3.7.10"
  }
 },
 "nbformat": 4,
 "nbformat_minor": 5
}
