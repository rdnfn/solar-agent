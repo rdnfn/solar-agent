{
 "cells": [
  {
   "cell_type": "code",
   "execution_count": 1,
   "id": "1e9254d2-7595-4f93-89e2-16e7f7108dd1",
   "metadata": {},
   "outputs": [],
   "source": [
    "%load_ext autoreload\n",
    "%autoreload 2\n",
    "%config IPCompleter.greedy=True"
   ]
  },
  {
   "cell_type": "code",
   "execution_count": 2,
   "id": "9cbddf50-8b33-4a50-8c5a-761ac8366717",
   "metadata": {},
   "outputs": [],
   "source": [
    "import cvxpy as cp\n",
    "import numpy as np"
   ]
  },
  {
   "cell_type": "code",
   "execution_count": 3,
   "id": "8f0425e2-0e9d-4791-8cfc-450903d85d8c",
   "metadata": {},
   "outputs": [],
   "source": [
    "from solara.constants import PROJECT_PATH\n",
    "import solara.environment.photovoltaics\n",
    "import solara.environment.loads\n",
    "import solara.environment.grids\n",
    "pv_data_path = PROJECT_PATH + \"/data/solar_trace_data/PV_5796.txt\"\n",
    "load_data_path = PROJECT_PATH + \"/data/solar_trace_data/load_5796.txt\"\n",
    "\n",
    "pv_model = solara.environment.photovoltaics.DataPV(data_path=pv_data_path)\n",
    "load_model = solara.environment.loads.DataLoad(data_path=load_data_path)\n",
    "grid_model = solara.environment.grids.PeakGrid()"
   ]
  },
  {
   "cell_type": "code",
   "execution_count": 4,
   "id": "9f44ca98-a37e-40c0-8973-3661ddf5d62e",
   "metadata": {},
   "outputs": [
    {
     "name": "stdout",
     "output_type": "stream",
     "text": [
      "Starting point:  8688\n",
      "Load: 0.386, PV generation: 0.000, Net load: 0.386, Price: 0.054\n",
      "Load: 0.370, PV generation: 0.000, Net load: 0.370, Price: 0.052\n",
      "Load: 0.379, PV generation: 0.000, Net load: 0.379, Price: 0.053\n",
      "Load: 0.373, PV generation: 0.000, Net load: 0.373, Price: 0.052\n",
      "Load: 0.402, PV generation: 0.000, Net load: 0.402, Price: 0.056\n",
      "Load: 0.461, PV generation: 0.000, Net load: 0.461, Price: 0.065\n",
      "Load: 0.792, PV generation: 0.000, Net load: 0.792, Price: 0.111\n",
      "Load: 0.363, PV generation: 0.003, Net load: 0.360, Price: 0.050\n",
      "Load: 0.261, PV generation: 0.096, Net load: 0.165, Price: 0.023\n",
      "Load: 0.252, PV generation: 0.344, Net load: 0.000, Price: 0.000\n",
      "Load: 0.288, PV generation: 0.711, Net load: 0.000, Price: 0.000\n",
      "Load: 0.276, PV generation: 0.791, Net load: 0.000, Price: 0.000\n",
      "Load: 0.291, PV generation: 0.791, Net load: 0.000, Price: 0.000\n",
      "Load: 0.273, PV generation: 0.786, Net load: 0.000, Price: 0.000\n",
      "Load: 0.262, PV generation: 0.562, Net load: 0.000, Price: 0.000\n",
      "Load: 0.263, PV generation: 0.330, Net load: 0.000, Price: 0.000\n",
      "Load: 0.272, PV generation: 0.162, Net load: 0.110, Price: 0.015\n",
      "Load: 0.570, PV generation: 0.008, Net load: 0.562, Price: 0.079\n",
      "Load: 1.805, PV generation: 0.000, Net load: 1.805, Price: 0.429\n",
      "Load: 1.981, PV generation: 0.000, Net load: 1.981, Price: 0.605\n",
      "Load: 2.500, PV generation: 0.000, Net load: 2.500, Price: 1.124\n",
      "Load: 2.534, PV generation: 0.000, Net load: 2.534, Price: 1.158\n",
      "Load: 1.832, PV generation: 0.000, Net load: 1.832, Price: 0.456\n",
      "Load: 0.693, PV generation: 0.000, Net load: 0.693, Price: 0.097\n"
     ]
    }
   ],
   "source": [
    "start = np.random.randint(len(pv_model.data) // 24) * 24\n",
    "\n",
    "pv_model.reset(start=start)\n",
    "load_model.reset(start=start)\n",
    "print(\"Starting point: \", pv_model.start)\n",
    "for i in range(24):\n",
    "    load = load_model.get_next_load()\n",
    "    pv_gen = pv_model.get_next_generation()\n",
    "    net_load = np.maximum(0,load-pv_gen)\n",
    "    price = grid_model.draw_power(net_load)\n",
    "    print(\"Load: {:.3f}, PV generation: {:.3f}, Net load: {:.3f}, Price: {:.3f}\".format(load, pv_gen, net_load, price))"
   ]
  },
  {
   "cell_type": "code",
   "execution_count": 5,
   "id": "66563ae5-d757-418d-93f8-dd3e5dc81bd4",
   "metadata": {},
   "outputs": [],
   "source": [
    "import solara.environment.battery_control\n",
    "import solara.environment.batteries\n",
    "\n",
    "battery_model = solara.environment.batteries.LithiumIonBattery(20, \"NMC\", 1/10.0)\n",
    "pv_model = solara.environment.photovoltaics.DataPV(data_path=pv_data_path)\n",
    "load_model = solara.environment.loads.DataLoad(data_path=load_data_path)\n",
    "grid_model = solara.environment.grids.PeakGrid()\n",
    "\n",
    "env = solara.environment.battery_control.BatteryControlEnv(battery=battery_model,\n",
    "        pv_system = pv_model,\n",
    "        grid = grid_model,\n",
    "        load = load_model,)"
   ]
  },
  {
   "cell_type": "code",
   "execution_count": 6,
   "id": "f9037b88-0d5a-4ab4-98a0-8c8c144e1306",
   "metadata": {},
   "outputs": [
    {
     "name": "stdout",
     "output_type": "stream",
     "text": [
      "0 [0.603717 0.       1.9884   1.       0.603717 0.      ]\n",
      "1 [0.60675  0.       3.9768   2.       1.210467 0.      ]\n",
      "2 [0.854733 0.       5.9652   3.       2.0652   0.      ]\n",
      "3 [0.839817 0.       7.9536   4.       2.905017 0.      ]\n",
      "4 [0.8112   0.       9.942    5.       3.716217 0.      ]\n",
      "5 [ 0.851333  0.       11.9304    6.        4.56755   0.      ]\n",
      "6 [4.175830e-01 6.452000e-03 1.391880e+01 7.000000e+00 4.985133e+00\n",
      " 6.452000e-03]\n",
      "7 [ 1.395383  0.040174 15.9072    8.        6.380516  0.046626]\n",
      "8 [ 1.636567    0.105383   17.68990345  9.          8.017083    0.152009  ]\n",
      "9 [ 1.4284      0.197368   18.64982069 10.          9.445483    0.349377  ]\n",
      "10 [ 0.515033    0.191018   19.19834483 11.          9.960516    0.540395  ]\n",
      "11 [ 0.296183    0.07662    19.54117241 12.         10.256699    0.617015  ]\n",
      "12 [ 0.441983    0.159432   19.67830345 13.         10.698682    0.776447  ]\n",
      "13 [ 0.5395      0.146029   19.81543448 14.         11.238182    0.922476  ]\n",
      "14 [ 0.615283  0.136064 19.884    15.       11.853465  1.05854 ]\n",
      "15 [ 1.149717  0.147224 19.884    16.       13.003182  1.205764]\n",
      "16 [ 0.8125    0.110083 19.884    17.       13.815682  1.315847]\n",
      "17 [ 1.1659    0.094428 19.884    18.       14.981582  1.410275]\n",
      "18 [2.0350830e+00 2.4480000e-03 1.9884000e+01 1.9000000e+01 1.7016665e+01\n",
      " 1.4127230e+00]\n",
      "19 [ 2.0718    0.       19.884    20.       19.088465  1.412723]\n",
      "20 [ 1.950383  0.       19.884    21.       21.038848  1.412723]\n",
      "21 [ 1.132433  0.       19.884    22.       22.171281  1.412723]\n",
      "22 [ 0.724117  0.       19.884    23.       22.895398  1.412723]\n",
      "23 [ 0.58955   0.       19.884    24.       23.484948  1.412723]\n",
      "Episode done.\n",
      "Episode done.\n"
     ]
    }
   ],
   "source": [
    "done = False\n",
    "env.reset()\n",
    "for i in range(26):\n",
    "    if not done:\n",
    "        obs, _, done, _ = env.step(np.array([0.3]))\n",
    "        print(i, obs)\n",
    "    else:\n",
    "        print(\"Episode done.\")"
   ]
  }
 ],
 "metadata": {
  "kernelspec": {
   "display_name": "Python 3",
   "language": "python",
   "name": "python3"
  },
  "language_info": {
   "codemirror_mode": {
    "name": "ipython",
    "version": 3
   },
   "file_extension": ".py",
   "mimetype": "text/x-python",
   "name": "python",
   "nbconvert_exporter": "python",
   "pygments_lexer": "ipython3",
   "version": "3.8.8"
  }
 },
 "nbformat": 4,
 "nbformat_minor": 5
}
