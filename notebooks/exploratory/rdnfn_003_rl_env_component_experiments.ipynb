{
 "cells": [
  {
   "cell_type": "code",
   "execution_count": 1,
   "id": "1e9254d2-7595-4f93-89e2-16e7f7108dd1",
   "metadata": {},
   "outputs": [],
   "source": [
    "%load_ext autoreload\n",
    "%autoreload 2\n",
    "%config IPCompleter.greedy=True"
   ]
  },
  {
   "cell_type": "code",
   "execution_count": 2,
   "id": "9cbddf50-8b33-4a50-8c5a-761ac8366717",
   "metadata": {},
   "outputs": [],
   "source": [
    "import cvxpy as cp\n",
    "import numpy as np"
   ]
  },
  {
   "cell_type": "code",
   "execution_count": 3,
   "id": "8f0425e2-0e9d-4791-8cfc-450903d85d8c",
   "metadata": {},
   "outputs": [],
   "source": [
    "from solara.constants import PROJECT_PATH\n",
    "import solara.environment.photovoltaics\n",
    "import solara.environment.loads\n",
    "import solara.environment.grids\n",
    "pv_data_path = PROJECT_PATH + \"/data/solar_trace_data/PV_5796.txt\"\n",
    "load_data_path = PROJECT_PATH + \"/data/solar_trace_data/load_5796.txt\"\n",
    "\n",
    "pv_model = solara.environment.photovoltaics.DataPV(data_path=pv_data_path)\n",
    "load_model = solara.environment.loads.DataLoad(data_path=load_data_path)\n",
    "grid_model = solara.environment.grids.PeakGrid()"
   ]
  },
  {
   "cell_type": "code",
   "execution_count": 4,
   "id": "9f44ca98-a37e-40c0-8973-3661ddf5d62e",
   "metadata": {},
   "outputs": [
    {
     "name": "stdout",
     "output_type": "stream",
     "text": [
      "Starting point:  5280\n",
      "Load: 2.425, PV generation: 0.000, Net load: 2.425, Price: 1.049\n",
      "Load: 1.818, PV generation: 0.000, Net load: 1.818, Price: 0.442\n",
      "Load: 1.637, PV generation: 0.000, Net load: 1.637, Price: 0.261\n",
      "Load: 1.608, PV generation: 0.000, Net load: 1.608, Price: 0.232\n",
      "Load: 1.628, PV generation: 0.000, Net load: 1.628, Price: 0.252\n",
      "Load: 1.476, PV generation: 0.000, Net load: 1.476, Price: 0.207\n",
      "Load: 0.875, PV generation: 0.017, Net load: 0.858, Price: 0.120\n",
      "Load: 0.898, PV generation: 0.087, Net load: 0.811, Price: 0.114\n",
      "Load: 1.905, PV generation: 0.247, Net load: 1.658, Price: 0.282\n",
      "Load: 2.900, PV generation: 0.343, Net load: 2.557, Price: 1.181\n",
      "Load: 3.170, PV generation: 0.695, Net load: 2.475, Price: 1.099\n",
      "Load: 3.223, PV generation: 0.771, Net load: 2.452, Price: 1.076\n",
      "Load: 2.263, PV generation: 0.786, Net load: 1.476, Price: 0.207\n",
      "Load: 2.127, PV generation: 0.765, Net load: 1.362, Price: 0.191\n",
      "Load: 2.050, PV generation: 0.689, Net load: 1.361, Price: 0.190\n",
      "Load: 3.061, PV generation: 0.563, Net load: 2.498, Price: 1.122\n",
      "Load: 3.771, PV generation: 0.367, Net load: 3.404, Price: 2.028\n",
      "Load: 3.595, PV generation: 0.151, Net load: 3.444, Price: 2.068\n",
      "Load: 3.696, PV generation: 0.047, Net load: 3.649, Price: 2.273\n",
      "Load: 3.281, PV generation: 0.000, Net load: 3.281, Price: 1.905\n",
      "Load: 3.313, PV generation: 0.001, Net load: 3.313, Price: 1.937\n",
      "Load: 2.924, PV generation: 0.000, Net load: 2.924, Price: 1.548\n",
      "Load: 2.372, PV generation: 0.000, Net load: 2.372, Price: 0.996\n",
      "Load: 2.269, PV generation: 0.000, Net load: 2.269, Price: 0.893\n"
     ]
    }
   ],
   "source": [
    "start = np.random.randint(len(pv_model.data) // 24) * 24\n",
    "\n",
    "pv_model.reset(start=start)\n",
    "load_model.reset(start=start)\n",
    "print(\"Starting point: \", pv_model.start)\n",
    "for i in range(24):\n",
    "    load = load_model.get_next_load()\n",
    "    pv_gen = pv_model.get_next_generation()\n",
    "    net_load = np.maximum(0,load-pv_gen)\n",
    "    price = grid_model.draw_power(net_load)\n",
    "    print(\"Load: {:.3f}, PV generation: {:.3f}, Net load: {:.3f}, Price: {:.3f}\".format(load, pv_gen, net_load, price))"
   ]
  },
  {
   "cell_type": "code",
   "execution_count": null,
   "id": "66563ae5-d757-418d-93f8-dd3e5dc81bd4",
   "metadata": {},
   "outputs": [],
   "source": []
  }
 ],
 "metadata": {
  "kernelspec": {
   "display_name": "Python 3",
   "language": "python",
   "name": "python3"
  },
  "language_info": {
   "codemirror_mode": {
    "name": "ipython",
    "version": 3
   },
   "file_extension": ".py",
   "mimetype": "text/x-python",
   "name": "python",
   "nbconvert_exporter": "python",
   "pygments_lexer": "ipython3",
   "version": "3.8.8"
  }
 },
 "nbformat": 4,
 "nbformat_minor": 5
}
