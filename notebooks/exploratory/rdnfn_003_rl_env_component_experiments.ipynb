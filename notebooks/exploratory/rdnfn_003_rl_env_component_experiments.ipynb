{
 "cells": [
  {
   "cell_type": "code",
   "execution_count": 1,
   "id": "1e9254d2-7595-4f93-89e2-16e7f7108dd1",
   "metadata": {},
   "outputs": [],
   "source": [
    "%load_ext autoreload\n",
    "%autoreload 2\n",
    "%config IPCompleter.greedy=True"
   ]
  },
  {
   "cell_type": "code",
   "execution_count": 2,
   "id": "9cbddf50-8b33-4a50-8c5a-761ac8366717",
   "metadata": {},
   "outputs": [],
   "source": [
    "import cvxpy as cp\n",
    "import numpy as np"
   ]
  },
  {
   "cell_type": "code",
   "execution_count": 3,
   "id": "8f0425e2-0e9d-4791-8cfc-450903d85d8c",
   "metadata": {},
   "outputs": [],
   "source": [
    "from solara.constants import PROJECT_PATH\n",
    "import solara.envs.components.solar\n",
    "import solara.envs.components.load\n",
    "import solara.envs.components.grid\n",
    "pv_data_path = PROJECT_PATH + \"/data/solar_trace_data/PV_5796.txt\"\n",
    "load_data_path = PROJECT_PATH + \"/data/solar_trace_data/load_5796.txt\"\n",
    "\n",
    "pv_model = solara.envs.components.solar.DataPV(data_path=pv_data_path)\n",
    "load_model = solara.envs.components.load.DataLoad(data_path=load_data_path)\n",
    "grid_model = solara.envs.components.grid.PeakGrid()\n",
    "\n",
    "pv_model.fix_start(1)\n",
    "load_model.fix_start(1)"
   ]
  },
  {
   "cell_type": "code",
   "execution_count": 4,
   "id": "9f44ca98-a37e-40c0-8973-3661ddf5d62e",
   "metadata": {},
   "outputs": [
    {
     "name": "stdout",
     "output_type": "stream",
     "text": [
      "Starting point:  24\n",
      "Load: 0.388, PV generation: 0.000, Net load: 0.388, Price: 0.054\n",
      "Load: 0.401, PV generation: 0.000, Net load: 0.401, Price: 0.056\n",
      "Load: 0.396, PV generation: 0.000, Net load: 0.396, Price: 0.055\n",
      "Load: 0.371, PV generation: 0.000, Net load: 0.371, Price: 0.052\n",
      "Load: 0.354, PV generation: 0.000, Net load: 0.354, Price: 0.050\n",
      "Load: 0.382, PV generation: 0.000, Net load: 0.382, Price: 0.053\n",
      "Load: 0.382, PV generation: 0.000, Net load: 0.382, Price: 0.054\n",
      "Load: 0.736, PV generation: 0.005, Net load: 0.731, Price: 0.102\n",
      "Load: 0.759, PV generation: 0.088, Net load: 0.671, Price: 0.094\n",
      "Load: 0.938, PV generation: 0.342, Net load: 0.596, Price: 0.083\n",
      "Load: 1.130, PV generation: 0.774, Net load: 0.355, Price: 0.050\n",
      "Load: 0.959, PV generation: 0.864, Net load: 0.095, Price: 0.013\n",
      "Load: 3.110, PV generation: 0.890, Net load: 2.221, Price: 0.845\n",
      "Load: 1.084, PV generation: 0.813, Net load: 0.271, Price: 0.038\n",
      "Load: 2.113, PV generation: 0.651, Net load: 1.462, Price: 0.205\n",
      "Load: 0.940, PV generation: 0.504, Net load: 0.437, Price: 0.061\n",
      "Load: 1.020, PV generation: 0.189, Net load: 0.832, Price: 0.116\n",
      "Load: 0.933, PV generation: 0.017, Net load: 0.916, Price: 0.128\n",
      "Load: 0.589, PV generation: 0.000, Net load: 0.589, Price: 0.082\n",
      "Load: 0.668, PV generation: 0.000, Net load: 0.668, Price: 0.094\n",
      "Load: 0.963, PV generation: 0.000, Net load: 0.963, Price: 0.135\n",
      "Load: 0.650, PV generation: 0.000, Net load: 0.650, Price: 0.091\n",
      "Load: 0.776, PV generation: 0.000, Net load: 0.776, Price: 0.109\n",
      "Load: 0.788, PV generation: 0.000, Net load: 0.788, Price: 0.110\n"
     ]
    }
   ],
   "source": [
    "start = np.random.randint(len(pv_model.data) // 24) * 24\n",
    "\n",
    "pv_model.reset()\n",
    "load_model.reset()\n",
    "print(\"Starting point: \", pv_model.start)\n",
    "for i in range(24):\n",
    "    load = load_model.get_next_load()\n",
    "    pv_gen = pv_model.get_next_generation()\n",
    "    net_load = np.maximum(0,load-pv_gen)\n",
    "    price = grid_model.draw_power(net_load)\n",
    "    print(\"Load: {:.3f}, PV generation: {:.3f}, Net load: {:.3f}, Price: {:.3f}\".format(load, pv_gen, net_load, price))"
   ]
  },
  {
   "cell_type": "code",
   "execution_count": 9,
   "id": "66563ae5-d757-418d-93f8-dd3e5dc81bd4",
   "metadata": {},
   "outputs": [
    {
     "name": "stderr",
     "output_type": "stream",
     "text": [
      "INFO:LithiumIonBattery:Environment component initialised.\n",
      "INFO:DataPV:Environment component initialised.\n",
      "INFO:DataLoad:Environment component initialised.\n",
      "INFO:PeakGrid:Environment component initialised.\n",
      "INFO:BatteryControlEnv:Environment initialised.\n",
      "DEBUG:BatteryControlEnv:Environment reset.\n"
     ]
    }
   ],
   "source": [
    "import solara.envs.battery_control\n",
    "import solara.envs.components.battery\n",
    "\n",
    "battery_model = solara.envs.components.battery.LithiumIonBattery(20, \"NMC\", 1/10.0)\n",
    "pv_model = solara.envs.components.solar.DataPV(data_path=pv_data_path)\n",
    "load_model = solara.envs.components.load.DataLoad(data_path=load_data_path)\n",
    "grid_model = solara.envs.components.grid.PeakGrid()\n",
    "\n",
    "start = 12\n",
    "\n",
    "pv_model.fix_start(start=start)\n",
    "load_model.fix_start(start=start)\n",
    "\n",
    "env = solara.envs.battery_control.BatteryControlEnv(battery=battery_model,\n",
    "        pv_system = pv_model,\n",
    "        grid = grid_model,\n",
    "        load = load_model,\n",
    "        logging_level=\"DEBUG\")"
   ]
  },
  {
   "cell_type": "code",
   "execution_count": 11,
   "id": "f9037b88-0d5a-4ab4-98a0-8c8c144e1306",
   "metadata": {},
   "outputs": [
    {
     "name": "stderr",
     "output_type": "stream",
     "text": [
      "DEBUG:BatteryControlEnv:Environment reset.\n",
      "DEBUG:BatteryControlEnv:step action: -1.000\n",
      "DEBUG:LithiumIonBattery:Charged 0.0000kW (attempted -20.0000), new content 0.00kWh\n",
      "DEBUG:BatteryControlEnv:step return: obs: [0.339 0.    0.    1.    0.339 0.   ], rew: -0.000, done: False\n",
      "DEBUG:BatteryControlEnv:step action: -1.000\n",
      "DEBUG:LithiumIonBattery:Charged 0.0000kW (attempted -20.0000), new content 0.00kWh\n",
      "DEBUG:BatteryControlEnv:step return: obs: [0.356 0.    0.    2.    0.695 0.   ], rew: -0.047, done: False\n",
      "DEBUG:BatteryControlEnv:step action: -1.000\n",
      "DEBUG:LithiumIonBattery:Charged 0.0000kW (attempted -20.0000), new content 0.00kWh\n",
      "DEBUG:BatteryControlEnv:step return: obs: [0.336 0.    0.    3.    1.031 0.   ], rew: -0.050, done: False\n",
      "DEBUG:BatteryControlEnv:step action: -1.000\n",
      "DEBUG:LithiumIonBattery:Charged 0.0000kW (attempted -20.0000), new content 0.00kWh\n",
      "DEBUG:BatteryControlEnv:step return: obs: [0.343 0.    0.    4.    1.374 0.   ], rew: -0.047, done: False\n",
      "DEBUG:BatteryControlEnv:step action: -1.000\n",
      "DEBUG:LithiumIonBattery:Charged 0.0000kW (attempted -20.0000), new content 0.00kWh\n",
      "DEBUG:BatteryControlEnv:step return: obs: [0.349 0.    0.    5.    1.722 0.   ], rew: -0.048, done: False\n",
      "DEBUG:BatteryControlEnv:step action: -1.000\n",
      "DEBUG:LithiumIonBattery:Charged 0.0000kW (attempted -20.0000), new content 0.00kWh\n",
      "DEBUG:BatteryControlEnv:step return: obs: [0.357 0.    0.    6.    2.08  0.   ], rew: -0.049, done: False\n",
      "DEBUG:BatteryControlEnv:step action: -1.000\n",
      "DEBUG:LithiumIonBattery:Charged 0.0000kW (attempted -20.0000), new content 0.00kWh\n",
      "DEBUG:BatteryControlEnv:step return: obs: [0.745 0.    0.    7.    2.824 0.   ], rew: -0.050, done: False\n",
      "DEBUG:BatteryControlEnv:step action: -1.000\n",
      "DEBUG:LithiumIonBattery:Charged 0.0000kW (attempted -20.0000), new content 0.00kWh\n",
      "DEBUG:BatteryControlEnv:step return: obs: [0.377 0.002 0.    8.    3.201 0.002], rew: -0.104, done: False\n",
      "DEBUG:BatteryControlEnv:step action: -1.000\n",
      "DEBUG:LithiumIonBattery:Charged 0.0000kW (attempted -20.0000), new content 0.00kWh\n",
      "DEBUG:BatteryControlEnv:step return: obs: [0.345 0.09  0.    9.    3.546 0.092], rew: -0.052, done: False\n",
      "DEBUG:BatteryControlEnv:step action: -1.000\n",
      "DEBUG:LithiumIonBattery:Charged 0.0000kW (attempted -20.0000), new content 0.00kWh\n",
      "DEBUG:BatteryControlEnv:step return: obs: [ 0.268  0.324  0.    10.     3.814  0.416], rew: -0.036, done: False\n",
      "DEBUG:BatteryControlEnv:step action: -1.000\n",
      "DEBUG:LithiumIonBattery:Charged 0.0000kW (attempted -20.0000), new content 0.00kWh\n",
      "DEBUG:BatteryControlEnv:step return: obs: [ 0.317  0.734  0.    11.     4.131  1.15 ], rew: -0.000, done: False\n",
      "DEBUG:BatteryControlEnv:step action: -1.000\n",
      "DEBUG:LithiumIonBattery:Charged 0.0000kW (attempted -20.0000), new content 0.00kWh\n",
      "DEBUG:BatteryControlEnv:step return: obs: [ 0.348  0.838  0.    12.     4.479  1.988], rew: -0.000, done: False\n",
      "DEBUG:BatteryControlEnv:step action: -1.000\n",
      "DEBUG:LithiumIonBattery:Charged 0.0000kW (attempted -20.0000), new content 0.00kWh\n",
      "DEBUG:BatteryControlEnv:step return: obs: [ 0.251  0.873  0.    13.     4.729  2.861], rew: -0.000, done: False\n",
      "DEBUG:BatteryControlEnv:step action: -1.000\n",
      "DEBUG:LithiumIonBattery:Charged 0.0000kW (attempted -20.0000), new content 0.00kWh\n",
      "DEBUG:BatteryControlEnv:step return: obs: [ 0.233  0.845  0.    14.     4.962  3.706], rew: -0.000, done: False\n",
      "DEBUG:BatteryControlEnv:step action: -1.000\n",
      "DEBUG:LithiumIonBattery:Charged 0.0000kW (attempted -20.0000), new content 0.00kWh\n",
      "DEBUG:BatteryControlEnv:step return: obs: [ 0.224  0.758  0.    15.     5.186  4.463], rew: -0.000, done: False\n",
      "DEBUG:BatteryControlEnv:step action: -1.000\n",
      "DEBUG:LithiumIonBattery:Charged 0.0000kW (attempted -20.0000), new content 0.00kWh\n",
      "DEBUG:BatteryControlEnv:step return: obs: [ 0.26   0.604  0.    16.     5.446  5.068], rew: -0.000, done: False\n",
      "DEBUG:BatteryControlEnv:step action: -1.000\n",
      "DEBUG:LithiumIonBattery:Charged 0.0000kW (attempted -20.0000), new content 0.00kWh\n",
      "DEBUG:BatteryControlEnv:step return: obs: [ 0.247  0.276  0.    17.     5.693  5.344], rew: -0.000, done: False\n",
      "DEBUG:BatteryControlEnv:step action: -1.000\n",
      "DEBUG:LithiumIonBattery:Charged 0.0000kW (attempted -20.0000), new content 0.00kWh\n",
      "DEBUG:BatteryControlEnv:step return: obs: [ 0.339  0.027  0.    18.     6.032  5.37 ], rew: -0.000, done: False\n",
      "DEBUG:BatteryControlEnv:step action: -1.000\n",
      "DEBUG:LithiumIonBattery:Charged 0.0000kW (attempted -20.0000), new content 0.00kWh\n",
      "DEBUG:BatteryControlEnv:step return: obs: [ 0.868  0.     0.    19.     6.9    5.37 ], rew: -0.044, done: False\n",
      "DEBUG:BatteryControlEnv:step action: -1.000\n",
      "DEBUG:LithiumIonBattery:Charged 0.0000kW (attempted -20.0000), new content 0.00kWh\n",
      "DEBUG:BatteryControlEnv:step return: obs: [ 1.158  0.     0.    20.     8.058  5.37 ], rew: -0.121, done: False\n",
      "DEBUG:BatteryControlEnv:step action: -1.000\n",
      "DEBUG:LithiumIonBattery:Charged 0.0000kW (attempted -20.0000), new content 0.00kWh\n",
      "DEBUG:BatteryControlEnv:step return: obs: [ 0.637  0.     0.    21.     8.694  5.37 ], rew: -0.162, done: False\n",
      "DEBUG:BatteryControlEnv:step action: -1.000\n",
      "DEBUG:LithiumIonBattery:Charged 0.0000kW (attempted -20.0000), new content 0.00kWh\n",
      "DEBUG:BatteryControlEnv:step return: obs: [ 0.307  0.     0.    22.     9.002  5.37 ], rew: -0.089, done: False\n",
      "DEBUG:BatteryControlEnv:step action: -1.000\n",
      "DEBUG:LithiumIonBattery:Charged 0.0000kW (attempted -20.0000), new content 0.00kWh\n",
      "DEBUG:BatteryControlEnv:step return: obs: [ 0.369  0.     0.    23.     9.371  5.37 ], rew: -0.043, done: False\n",
      "DEBUG:BatteryControlEnv:step action: -1.000\n",
      "DEBUG:LithiumIonBattery:Charged 0.0000kW (attempted -20.0000), new content 0.00kWh\n",
      "DEBUG:BatteryControlEnv:step return: obs: [ 0.346  0.     0.    24.     9.716  5.37 ], rew: -0.052, done: True\n"
     ]
    },
    {
     "name": "stdout",
     "output_type": "stream",
     "text": [
      "Episode done.\n",
      "Episode done.\n"
     ]
    }
   ],
   "source": [
    "done = False\n",
    "env.reset()\n",
    "obs_list = []\n",
    "for i in range(26):\n",
    "    if not done:\n",
    "        obs, _, done, _ = env.step(np.array([-1]))\n",
    "        obs_list.append(obs)\n",
    "    else:\n",
    "        print(\"Episode done.\")"
   ]
  },
  {
   "cell_type": "code",
   "execution_count": 8,
   "id": "ea5ef46c-2ce6-4208-aee6-13a77b02255d",
   "metadata": {},
   "outputs": [
    {
     "data": {
      "text/plain": [
       "<AxesSubplot:>"
      ]
     },
     "execution_count": 8,
     "metadata": {},
     "output_type": "execute_result"
    },
    {
     "data": {
      "image/png": "[encoded data removed]",
      "text/plain": [
       "<Figure size 432x288 with 2 Axes>"
      ]
     },
     "metadata": {
      "needs_background": "light"
     },
     "output_type": "display_data"
    }
   ],
   "source": [
    "import pandas as pd\n",
    "\n",
    "df = pd.DataFrame(data=obs_list)\n",
    "df.columns = [\"load\",\n",
    "            \"pv_generation\",\n",
    "            \"battery__energy_content\",\n",
    "            \"time_step\",\n",
    "            \"sum_load\",\n",
    "            \"sum_pv_gen\",]\n",
    "\n",
    "y_names = [\"load\",\n",
    "            \"pv_generation\",\n",
    "            \"battery__energy_content\",]\n",
    "            #\"sum_load\",\n",
    "            #\"sum_pv_gen\",]\n",
    "        \n",
    "df.plot(x=\"time_step\", y=y_names, secondary_y=True)"
   ]
  },
  {
   "cell_type": "code",
   "execution_count": null,
   "id": "69f44539-a362-4e28-aec5-af5111815534",
   "metadata": {},
   "outputs": [],
   "source": []
  }
 ],
 "metadata": {
  "kernelspec": {
   "display_name": "Python 3",
   "language": "python",
   "name": "python3"
  },
  "language_info": {
   "codemirror_mode": {
    "name": "ipython",
    "version": 3
   },
   "file_extension": ".py",
   "mimetype": "text/x-python",
   "name": "python",
   "nbconvert_exporter": "python",
   "pygments_lexer": "ipython3",
   "version": "3.7.10"
  }
 },
 "nbformat": 4,
 "nbformat_minor": 5
}
