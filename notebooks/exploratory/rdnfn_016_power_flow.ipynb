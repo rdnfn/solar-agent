{
 "cells": [
  {
   "cell_type": "markdown",
   "id": "7e24737a-9918-49af-bf7c-5b2138a0f2c7",
   "metadata": {},
   "source": [
    "# `PowerFlow` Class\n",
    "Example Notebook Illustrating the Use of the `PowerFlow` Class."
   ]
  },
  {
   "cell_type": "code",
   "execution_count": 1,
   "id": "aa06f8c1-544d-435b-b950-3e794bcca732",
   "metadata": {},
   "outputs": [],
   "source": [
    "%load_ext autoreload\n",
    "%autoreload 2\n",
    "%config IPCompleter.greedy=True"
   ]
  },
  {
   "cell_type": "code",
   "execution_count": 2,
   "id": "6508ffc4-cdf6-44fb-aade-85075d440375",
   "metadata": {},
   "outputs": [
    {
     "data": {
      "text/plain": [
       "[('solar', 'battery'),\n",
       " ('solar', 'load'),\n",
       " ('solar', 'grid'),\n",
       " ('battery', 'solar'),\n",
       " ('battery', 'load'),\n",
       " ('battery', 'grid'),\n",
       " ('load', 'solar'),\n",
       " ('load', 'battery'),\n",
       " ('load', 'grid'),\n",
       " ('grid', 'solar'),\n",
       " ('grid', 'battery'),\n",
       " ('grid', 'load')]"
      ]
     },
     "execution_count": 2,
     "metadata": {},
     "output_type": "execute_result"
    }
   ],
   "source": [
    "import solara.envs.wiring    \n",
    "\n",
    "power_flow = solara.envs.wiring.PowerFlow(['solar','battery','load','grid'], \n",
    "                                          fully_connected=True)\n",
    "\n",
    "\n",
    "power_flow.component_abbr\n",
    "power_flow.add_connection('solar', 'grid')\n",
    "power_flow.get_connections()"
   ]
  },
  {
   "cell_type": "code",
   "execution_count": 3,
   "id": "34268995-9b37-4f8a-8eb8-3eca7ac86dc6",
   "metadata": {},
   "outputs": [],
   "source": [
    "power_flow['solar', 'battery'] = 5\n",
    "#power_flow['battery', 'load'] = 1 # This will throw ValueError: \"Source component is both receiving and giving power.\"\n",
    "power_flow['solar', 'load'] = 3\n",
    "power_flow['solar', 'grid'] = 3 "
   ]
  },
  {
   "cell_type": "code",
   "execution_count": 4,
   "id": "a1971232-259f-41cb-aa88-5556dc091cf1",
   "metadata": {},
   "outputs": [
    {
     "data": {
      "text/plain": [
       "array([[ 0.,  5.,  3.,  3.],\n",
       "       [-5.,  0.,  0.,  0.],\n",
       "       [-3.,  0.,  0.,  0.],\n",
       "       [-3.,  0.,  0.,  0.]], dtype=float32)"
      ]
     },
     "execution_count": 4,
     "metadata": {},
     "output_type": "execute_result"
    }
   ],
   "source": [
    "power_flow.values"
   ]
  },
  {
   "cell_type": "code",
   "execution_count": 5,
   "id": "2c43ac1a-f3aa-4ec5-9230-39e372669ac4",
   "metadata": {},
   "outputs": [
    {
     "data": {
      "text/plain": [
       "-7.0"
      ]
     },
     "execution_count": 5,
     "metadata": {},
     "output_type": "execute_result"
    }
   ],
   "source": [
    "power_flow['solar', 'load'] = 7\n",
    "power_flow['load']"
   ]
  },
  {
   "cell_type": "code",
   "execution_count": 6,
   "id": "ca1a9099-565c-4659-9621-7bf5dd9ea74a",
   "metadata": {},
   "outputs": [
    {
     "data": {
      "text/plain": [
       "7.0"
      ]
     },
     "execution_count": 6,
     "metadata": {},
     "output_type": "execute_result"
    }
   ],
   "source": [
    "power_flow['solar', 'load']"
   ]
  },
  {
   "cell_type": "code",
   "execution_count": null,
   "id": "53551237-ddd9-49ae-935f-e5d3c5be0870",
   "metadata": {},
   "outputs": [],
   "source": []
  }
 ],
 "metadata": {
  "kernelspec": {
   "display_name": "Python 3",
   "language": "python",
   "name": "python3"
  },
  "language_info": {
   "codemirror_mode": {
    "name": "ipython",
    "version": 3
   },
   "file_extension": ".py",
   "mimetype": "text/x-python",
   "name": "python",
   "nbconvert_exporter": "python",
   "pygments_lexer": "ipython3",
   "version": "3.7.10"
  }
 },
 "nbformat": 4,
 "nbformat_minor": 5
}
